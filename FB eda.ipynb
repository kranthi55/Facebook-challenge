{
 "cells": [
  {
   "cell_type": "markdown",
   "metadata": {},
   "source": [
    "FB Case study"
   ]
  },
  {
   "cell_type": "code",
   "execution_count": 1,
   "metadata": {},
   "outputs": [],
   "source": [
    "import warnings\n",
    "warnings.filterwarnings(\"ignore\")\n",
    "\n",
    "import csv\n",
    "import pandas as pd \n",
    "import datetime \n",
    "import time \n",
    "import numpy as np\n",
    "import matplotlib\n",
    "import matplotlib.pylab as plt\n",
    "import seaborn as sns\n",
    "from matplotlib import rcParams  \n",
    "from sklearn.cluster import MiniBatchKMeans, KMeans#Clustering\n",
    "import math\n",
    "import pickle\n",
    "import os\n",
    "\n",
    "\n",
    "import xgboost as xgb\n",
    "\n",
    "import warnings\n",
    "import networkx as nx\n",
    "import pdb\n",
    "import pickle\n",
    "\n",
    "from pandas import HDFStore,DataFrame\n",
    "from pandas import read_hdf\n",
    "from scipy.sparse.linalg import svds, eigs\n",
    "import gc\n",
    "from tqdm import tqdm"
   ]
  },
  {
   "cell_type": "code",
   "execution_count": 18,
   "metadata": {},
   "outputs": [
    {
     "name": "stdout",
     "output_type": "stream",
     "text": [
      "Empty DataFrame\n",
      "Columns: [source_node, destination_node]\n",
      "Index: []\n",
      "<class 'pandas.core.frame.DataFrame'>\n",
      "RangeIndex: 9437519 entries, 0 to 9437518\n",
      "Data columns (total 2 columns):\n",
      "source_node         int64\n",
      "destination_node    int64\n",
      "dtypes: int64(2)\n",
      "memory usage: 144.0 MB\n",
      "None\n",
      "number of duplicate entries 0\n",
      "saved the graph into file\n",
      "Wall time: 23.3 s\n"
     ]
    }
   ],
   "source": [
    "%%time\n",
    "train_csv=pd.read_csv('train.csv')\n",
    "print(train_csv[train_csv.isna().any(1)])\n",
    "print(train_csv.info())\n",
    "print('number of duplicate entries',sum(train_csv.duplicated()))\n",
    "train_csv1=pd.read_csv('train.csv',nrows=1000000)\n",
    "train_csv1.to_csv('train1.csv',index=False)#concided data to 1m points for speeding on my device with 4 gigs ram\n",
    "train_csv1.to_csv('train_woheader.csv',header=False,index=False)\n",
    "print(\"saved the graph into file\")\n",
    "\n",
    "\n",
    "train_csv.head()\n"
   ]
  },
  {
   "cell_type": "code",
   "execution_count": 19,
   "metadata": {},
   "outputs": [
    {
     "name": "stdout",
     "output_type": "stream",
     "text": [
      "Name: \n",
      "Type: DiGraph\n",
      "Number of nodes: 685775\n",
      "Number of edges: 1000000\n",
      "Average in degree:   1.4582\n",
      "Average out degree:   1.4582\n",
      "Wall time: 14.1 s\n"
     ]
    }
   ],
   "source": [
    "%%time\n",
    "g=nx.read_edgelist('train_woheader.csv',delimiter=',',create_using=nx.DiGraph(),nodetype=int)\n",
    "print(nx.info(g))"
   ]
  },
  {
   "cell_type": "code",
   "execution_count": 4,
   "metadata": {},
   "outputs": [
    {
     "name": "stdout",
     "output_type": "stream",
     "text": [
      "Name: \n",
      "Type: DiGraph\n",
      "Number of nodes: 66\n",
      "Number of edges: 50\n",
      "Average in degree:   0.7576\n",
      "Average out degree:   0.7576\n"
     ]
    }
   ],
   "source": [
    "pd.read_csv('train_woheader.csv',nrows=50).to_csv('train_woheader_sample.csv',header=False,index=False)\n",
    "subgraph=nx.read_edgelist('train_woheader_sample.csv',delimiter=',',create_using=nx.DiGraph(),nodetype=int)\n",
    "print(nx.info(subgraph))\n"
   ]
  },
  {
   "cell_type": "code",
   "execution_count": 5,
   "metadata": {},
   "outputs": [
    {
     "name": "stderr",
     "output_type": "stream",
     "text": [
      "C:\\Users\\kranti\\Anaconda3\\lib\\site-packages\\networkx\\drawing\\nx_pylab.py:563: MatplotlibDeprecationWarning: \n",
      "The iterable function was deprecated in Matplotlib 3.1 and will be removed in 3.3. Use np.iterable instead.\n",
      "  if not cb.iterable(width):\n",
      "C:\\Users\\kranti\\Anaconda3\\lib\\site-packages\\networkx\\drawing\\nx_pylab.py:660: MatplotlibDeprecationWarning: \n",
      "The iterable function was deprecated in Matplotlib 3.1 and will be removed in 3.3. Use np.iterable instead.\n",
      "  if cb.iterable(node_size):  # many node sizes\n",
      "C:\\Users\\kranti\\Anaconda3\\lib\\site-packages\\networkx\\drawing\\nx_pylab.py:660: MatplotlibDeprecationWarning: \n",
      "The iterable function was deprecated in Matplotlib 3.1 and will be removed in 3.3. Use np.iterable instead.\n",
      "  if cb.iterable(node_size):  # many node sizes\n",
      "C:\\Users\\kranti\\Anaconda3\\lib\\site-packages\\networkx\\drawing\\nx_pylab.py:660: MatplotlibDeprecationWarning: \n",
      "The iterable function was deprecated in Matplotlib 3.1 and will be removed in 3.3. Use np.iterable instead.\n",
      "  if cb.iterable(node_size):  # many node sizes\n",
      "C:\\Users\\kranti\\Anaconda3\\lib\\site-packages\\networkx\\drawing\\nx_pylab.py:660: MatplotlibDeprecationWarning: \n",
      "The iterable function was deprecated in Matplotlib 3.1 and will be removed in 3.3. Use np.iterable instead.\n",
      "  if cb.iterable(node_size):  # many node sizes\n",
      "C:\\Users\\kranti\\Anaconda3\\lib\\site-packages\\networkx\\drawing\\nx_pylab.py:660: MatplotlibDeprecationWarning: \n",
      "The iterable function was deprecated in Matplotlib 3.1 and will be removed in 3.3. Use np.iterable instead.\n",
      "  if cb.iterable(node_size):  # many node sizes\n",
      "C:\\Users\\kranti\\Anaconda3\\lib\\site-packages\\networkx\\drawing\\nx_pylab.py:660: MatplotlibDeprecationWarning: \n",
      "The iterable function was deprecated in Matplotlib 3.1 and will be removed in 3.3. Use np.iterable instead.\n",
      "  if cb.iterable(node_size):  # many node sizes\n",
      "C:\\Users\\kranti\\Anaconda3\\lib\\site-packages\\networkx\\drawing\\nx_pylab.py:660: MatplotlibDeprecationWarning: \n",
      "The iterable function was deprecated in Matplotlib 3.1 and will be removed in 3.3. Use np.iterable instead.\n",
      "  if cb.iterable(node_size):  # many node sizes\n",
      "C:\\Users\\kranti\\Anaconda3\\lib\\site-packages\\networkx\\drawing\\nx_pylab.py:660: MatplotlibDeprecationWarning: \n",
      "The iterable function was deprecated in Matplotlib 3.1 and will be removed in 3.3. Use np.iterable instead.\n",
      "  if cb.iterable(node_size):  # many node sizes\n",
      "C:\\Users\\kranti\\Anaconda3\\lib\\site-packages\\networkx\\drawing\\nx_pylab.py:660: MatplotlibDeprecationWarning: \n",
      "The iterable function was deprecated in Matplotlib 3.1 and will be removed in 3.3. Use np.iterable instead.\n",
      "  if cb.iterable(node_size):  # many node sizes\n",
      "C:\\Users\\kranti\\Anaconda3\\lib\\site-packages\\networkx\\drawing\\nx_pylab.py:660: MatplotlibDeprecationWarning: \n",
      "The iterable function was deprecated in Matplotlib 3.1 and will be removed in 3.3. Use np.iterable instead.\n",
      "  if cb.iterable(node_size):  # many node sizes\n",
      "C:\\Users\\kranti\\Anaconda3\\lib\\site-packages\\networkx\\drawing\\nx_pylab.py:660: MatplotlibDeprecationWarning: \n",
      "The iterable function was deprecated in Matplotlib 3.1 and will be removed in 3.3. Use np.iterable instead.\n",
      "  if cb.iterable(node_size):  # many node sizes\n",
      "C:\\Users\\kranti\\Anaconda3\\lib\\site-packages\\networkx\\drawing\\nx_pylab.py:660: MatplotlibDeprecationWarning: \n",
      "The iterable function was deprecated in Matplotlib 3.1 and will be removed in 3.3. Use np.iterable instead.\n",
      "  if cb.iterable(node_size):  # many node sizes\n",
      "C:\\Users\\kranti\\Anaconda3\\lib\\site-packages\\networkx\\drawing\\nx_pylab.py:660: MatplotlibDeprecationWarning: \n",
      "The iterable function was deprecated in Matplotlib 3.1 and will be removed in 3.3. Use np.iterable instead.\n",
      "  if cb.iterable(node_size):  # many node sizes\n",
      "C:\\Users\\kranti\\Anaconda3\\lib\\site-packages\\networkx\\drawing\\nx_pylab.py:660: MatplotlibDeprecationWarning: \n",
      "The iterable function was deprecated in Matplotlib 3.1 and will be removed in 3.3. Use np.iterable instead.\n",
      "  if cb.iterable(node_size):  # many node sizes\n",
      "C:\\Users\\kranti\\Anaconda3\\lib\\site-packages\\networkx\\drawing\\nx_pylab.py:660: MatplotlibDeprecationWarning: \n",
      "The iterable function was deprecated in Matplotlib 3.1 and will be removed in 3.3. Use np.iterable instead.\n",
      "  if cb.iterable(node_size):  # many node sizes\n",
      "C:\\Users\\kranti\\Anaconda3\\lib\\site-packages\\networkx\\drawing\\nx_pylab.py:660: MatplotlibDeprecationWarning: \n",
      "The iterable function was deprecated in Matplotlib 3.1 and will be removed in 3.3. Use np.iterable instead.\n",
      "  if cb.iterable(node_size):  # many node sizes\n",
      "C:\\Users\\kranti\\Anaconda3\\lib\\site-packages\\networkx\\drawing\\nx_pylab.py:660: MatplotlibDeprecationWarning: \n",
      "The iterable function was deprecated in Matplotlib 3.1 and will be removed in 3.3. Use np.iterable instead.\n",
      "  if cb.iterable(node_size):  # many node sizes\n",
      "C:\\Users\\kranti\\Anaconda3\\lib\\site-packages\\networkx\\drawing\\nx_pylab.py:660: MatplotlibDeprecationWarning: \n",
      "The iterable function was deprecated in Matplotlib 3.1 and will be removed in 3.3. Use np.iterable instead.\n",
      "  if cb.iterable(node_size):  # many node sizes\n",
      "C:\\Users\\kranti\\Anaconda3\\lib\\site-packages\\networkx\\drawing\\nx_pylab.py:660: MatplotlibDeprecationWarning: \n",
      "The iterable function was deprecated in Matplotlib 3.1 and will be removed in 3.3. Use np.iterable instead.\n",
      "  if cb.iterable(node_size):  # many node sizes\n",
      "C:\\Users\\kranti\\Anaconda3\\lib\\site-packages\\networkx\\drawing\\nx_pylab.py:660: MatplotlibDeprecationWarning: \n",
      "The iterable function was deprecated in Matplotlib 3.1 and will be removed in 3.3. Use np.iterable instead.\n",
      "  if cb.iterable(node_size):  # many node sizes\n",
      "C:\\Users\\kranti\\Anaconda3\\lib\\site-packages\\networkx\\drawing\\nx_pylab.py:660: MatplotlibDeprecationWarning: \n",
      "The iterable function was deprecated in Matplotlib 3.1 and will be removed in 3.3. Use np.iterable instead.\n",
      "  if cb.iterable(node_size):  # many node sizes\n",
      "C:\\Users\\kranti\\Anaconda3\\lib\\site-packages\\networkx\\drawing\\nx_pylab.py:660: MatplotlibDeprecationWarning: \n",
      "The iterable function was deprecated in Matplotlib 3.1 and will be removed in 3.3. Use np.iterable instead.\n",
      "  if cb.iterable(node_size):  # many node sizes\n",
      "C:\\Users\\kranti\\Anaconda3\\lib\\site-packages\\networkx\\drawing\\nx_pylab.py:660: MatplotlibDeprecationWarning: \n",
      "The iterable function was deprecated in Matplotlib 3.1 and will be removed in 3.3. Use np.iterable instead.\n",
      "  if cb.iterable(node_size):  # many node sizes\n",
      "C:\\Users\\kranti\\Anaconda3\\lib\\site-packages\\networkx\\drawing\\nx_pylab.py:660: MatplotlibDeprecationWarning: \n",
      "The iterable function was deprecated in Matplotlib 3.1 and will be removed in 3.3. Use np.iterable instead.\n",
      "  if cb.iterable(node_size):  # many node sizes\n",
      "C:\\Users\\kranti\\Anaconda3\\lib\\site-packages\\networkx\\drawing\\nx_pylab.py:660: MatplotlibDeprecationWarning: \n",
      "The iterable function was deprecated in Matplotlib 3.1 and will be removed in 3.3. Use np.iterable instead.\n",
      "  if cb.iterable(node_size):  # many node sizes\n",
      "C:\\Users\\kranti\\Anaconda3\\lib\\site-packages\\networkx\\drawing\\nx_pylab.py:660: MatplotlibDeprecationWarning: \n",
      "The iterable function was deprecated in Matplotlib 3.1 and will be removed in 3.3. Use np.iterable instead.\n",
      "  if cb.iterable(node_size):  # many node sizes\n",
      "C:\\Users\\kranti\\Anaconda3\\lib\\site-packages\\networkx\\drawing\\nx_pylab.py:660: MatplotlibDeprecationWarning: \n",
      "The iterable function was deprecated in Matplotlib 3.1 and will be removed in 3.3. Use np.iterable instead.\n",
      "  if cb.iterable(node_size):  # many node sizes\n",
      "C:\\Users\\kranti\\Anaconda3\\lib\\site-packages\\networkx\\drawing\\nx_pylab.py:660: MatplotlibDeprecationWarning: \n",
      "The iterable function was deprecated in Matplotlib 3.1 and will be removed in 3.3. Use np.iterable instead.\n",
      "  if cb.iterable(node_size):  # many node sizes\n",
      "C:\\Users\\kranti\\Anaconda3\\lib\\site-packages\\networkx\\drawing\\nx_pylab.py:660: MatplotlibDeprecationWarning: \n",
      "The iterable function was deprecated in Matplotlib 3.1 and will be removed in 3.3. Use np.iterable instead.\n",
      "  if cb.iterable(node_size):  # many node sizes\n",
      "C:\\Users\\kranti\\Anaconda3\\lib\\site-packages\\networkx\\drawing\\nx_pylab.py:660: MatplotlibDeprecationWarning: \n",
      "The iterable function was deprecated in Matplotlib 3.1 and will be removed in 3.3. Use np.iterable instead.\n",
      "  if cb.iterable(node_size):  # many node sizes\n",
      "C:\\Users\\kranti\\Anaconda3\\lib\\site-packages\\networkx\\drawing\\nx_pylab.py:660: MatplotlibDeprecationWarning: \n",
      "The iterable function was deprecated in Matplotlib 3.1 and will be removed in 3.3. Use np.iterable instead.\n",
      "  if cb.iterable(node_size):  # many node sizes\n",
      "C:\\Users\\kranti\\Anaconda3\\lib\\site-packages\\networkx\\drawing\\nx_pylab.py:660: MatplotlibDeprecationWarning: \n",
      "The iterable function was deprecated in Matplotlib 3.1 and will be removed in 3.3. Use np.iterable instead.\n",
      "  if cb.iterable(node_size):  # many node sizes\n",
      "C:\\Users\\kranti\\Anaconda3\\lib\\site-packages\\networkx\\drawing\\nx_pylab.py:660: MatplotlibDeprecationWarning: \n",
      "The iterable function was deprecated in Matplotlib 3.1 and will be removed in 3.3. Use np.iterable instead.\n",
      "  if cb.iterable(node_size):  # many node sizes\n",
      "C:\\Users\\kranti\\Anaconda3\\lib\\site-packages\\networkx\\drawing\\nx_pylab.py:660: MatplotlibDeprecationWarning: \n",
      "The iterable function was deprecated in Matplotlib 3.1 and will be removed in 3.3. Use np.iterable instead.\n",
      "  if cb.iterable(node_size):  # many node sizes\n",
      "C:\\Users\\kranti\\Anaconda3\\lib\\site-packages\\networkx\\drawing\\nx_pylab.py:660: MatplotlibDeprecationWarning: \n",
      "The iterable function was deprecated in Matplotlib 3.1 and will be removed in 3.3. Use np.iterable instead.\n",
      "  if cb.iterable(node_size):  # many node sizes\n",
      "C:\\Users\\kranti\\Anaconda3\\lib\\site-packages\\networkx\\drawing\\nx_pylab.py:660: MatplotlibDeprecationWarning: \n",
      "The iterable function was deprecated in Matplotlib 3.1 and will be removed in 3.3. Use np.iterable instead.\n",
      "  if cb.iterable(node_size):  # many node sizes\n",
      "C:\\Users\\kranti\\Anaconda3\\lib\\site-packages\\networkx\\drawing\\nx_pylab.py:660: MatplotlibDeprecationWarning: \n",
      "The iterable function was deprecated in Matplotlib 3.1 and will be removed in 3.3. Use np.iterable instead.\n",
      "  if cb.iterable(node_size):  # many node sizes\n",
      "C:\\Users\\kranti\\Anaconda3\\lib\\site-packages\\networkx\\drawing\\nx_pylab.py:660: MatplotlibDeprecationWarning: \n",
      "The iterable function was deprecated in Matplotlib 3.1 and will be removed in 3.3. Use np.iterable instead.\n",
      "  if cb.iterable(node_size):  # many node sizes\n",
      "C:\\Users\\kranti\\Anaconda3\\lib\\site-packages\\networkx\\drawing\\nx_pylab.py:660: MatplotlibDeprecationWarning: \n",
      "The iterable function was deprecated in Matplotlib 3.1 and will be removed in 3.3. Use np.iterable instead.\n",
      "  if cb.iterable(node_size):  # many node sizes\n",
      "C:\\Users\\kranti\\Anaconda3\\lib\\site-packages\\networkx\\drawing\\nx_pylab.py:660: MatplotlibDeprecationWarning: \n",
      "The iterable function was deprecated in Matplotlib 3.1 and will be removed in 3.3. Use np.iterable instead.\n",
      "  if cb.iterable(node_size):  # many node sizes\n",
      "C:\\Users\\kranti\\Anaconda3\\lib\\site-packages\\networkx\\drawing\\nx_pylab.py:660: MatplotlibDeprecationWarning: \n",
      "The iterable function was deprecated in Matplotlib 3.1 and will be removed in 3.3. Use np.iterable instead.\n",
      "  if cb.iterable(node_size):  # many node sizes\n",
      "C:\\Users\\kranti\\Anaconda3\\lib\\site-packages\\networkx\\drawing\\nx_pylab.py:660: MatplotlibDeprecationWarning: \n",
      "The iterable function was deprecated in Matplotlib 3.1 and will be removed in 3.3. Use np.iterable instead.\n",
      "  if cb.iterable(node_size):  # many node sizes\n",
      "C:\\Users\\kranti\\Anaconda3\\lib\\site-packages\\networkx\\drawing\\nx_pylab.py:660: MatplotlibDeprecationWarning: \n",
      "The iterable function was deprecated in Matplotlib 3.1 and will be removed in 3.3. Use np.iterable instead.\n",
      "  if cb.iterable(node_size):  # many node sizes\n",
      "C:\\Users\\kranti\\Anaconda3\\lib\\site-packages\\networkx\\drawing\\nx_pylab.py:660: MatplotlibDeprecationWarning: \n",
      "The iterable function was deprecated in Matplotlib 3.1 and will be removed in 3.3. Use np.iterable instead.\n",
      "  if cb.iterable(node_size):  # many node sizes\n",
      "C:\\Users\\kranti\\Anaconda3\\lib\\site-packages\\networkx\\drawing\\nx_pylab.py:660: MatplotlibDeprecationWarning: \n",
      "The iterable function was deprecated in Matplotlib 3.1 and will be removed in 3.3. Use np.iterable instead.\n",
      "  if cb.iterable(node_size):  # many node sizes\n",
      "C:\\Users\\kranti\\Anaconda3\\lib\\site-packages\\networkx\\drawing\\nx_pylab.py:660: MatplotlibDeprecationWarning: \n",
      "The iterable function was deprecated in Matplotlib 3.1 and will be removed in 3.3. Use np.iterable instead.\n",
      "  if cb.iterable(node_size):  # many node sizes\n",
      "C:\\Users\\kranti\\Anaconda3\\lib\\site-packages\\networkx\\drawing\\nx_pylab.py:660: MatplotlibDeprecationWarning: \n",
      "The iterable function was deprecated in Matplotlib 3.1 and will be removed in 3.3. Use np.iterable instead.\n",
      "  if cb.iterable(node_size):  # many node sizes\n",
      "C:\\Users\\kranti\\Anaconda3\\lib\\site-packages\\networkx\\drawing\\nx_pylab.py:660: MatplotlibDeprecationWarning: \n",
      "The iterable function was deprecated in Matplotlib 3.1 and will be removed in 3.3. Use np.iterable instead.\n",
      "  if cb.iterable(node_size):  # many node sizes\n",
      "C:\\Users\\kranti\\Anaconda3\\lib\\site-packages\\networkx\\drawing\\nx_pylab.py:660: MatplotlibDeprecationWarning: \n",
      "The iterable function was deprecated in Matplotlib 3.1 and will be removed in 3.3. Use np.iterable instead.\n",
      "  if cb.iterable(node_size):  # many node sizes\n",
      "C:\\Users\\kranti\\Anaconda3\\lib\\site-packages\\networkx\\drawing\\nx_pylab.py:660: MatplotlibDeprecationWarning: \n",
      "The iterable function was deprecated in Matplotlib 3.1 and will be removed in 3.3. Use np.iterable instead.\n",
      "  if cb.iterable(node_size):  # many node sizes\n"
     ]
    },
    {
     "data": {
      "image/png": "[encoded data removed]",
      "text/plain": [
       "<Figure size 432x288 with 1 Axes>"
      ]
     },
     "metadata": {},
     "output_type": "display_data"
    }
   ],
   "source": [
    "import matplotlib.pylab as plt\n",
    "q=nx.spring_layout(subgraph)\n",
    "nx.draw(subgraph,q,node_color='red',edge_color='black',width=1,edge_cmap=plt.cm.Blues,with_labels=True,alpha=0.8)\n",
    "plt.savefig('graph_sample.jpg')"
   ]
  },
  {
   "cell_type": "code",
   "execution_count": 6,
   "metadata": {},
   "outputs": [
    {
     "name": "stdout",
     "output_type": "stream",
     "text": [
      "number of connections 1000000\n",
      "number of unique users 685775\n"
     ]
    }
   ],
   "source": [
    "print('number of connections',len(g.edges()))\n",
    "print('number of unique users',len(g.nodes()))\n"
   ]
  },
  {
   "cell_type": "code",
   "execution_count": 7,
   "metadata": {},
   "outputs": [
    {
     "data": {
      "image/png": "[encoded data removed]",
      "text/plain": [
       "<Figure size 720x432 with 1 Axes>"
      ]
     },
     "metadata": {},
     "output_type": "display_data"
    }
   ],
   "source": [
    "indegree_dist = list(dict(g.in_degree()).values())\n",
    "indegree_dist.sort()\n",
    "plt.figure(figsize=(10,6))\n",
    "plt.plot(indegree_dist)\n",
    "plt.xlabel('Index No')\n",
    "plt.ylabel('No Of Followers')\n",
    "plt.title('Followers')\n",
    "plt.show()"
   ]
  },
  {
   "cell_type": "code",
   "execution_count": 8,
   "metadata": {},
   "outputs": [
    {
     "name": "stdout",
     "output_type": "stream",
     "text": [
      "90  percentile value is: 3.0\n",
      "91  percentile value is: 3.0\n",
      "92  percentile value is: 3.0\n",
      "93  percentile value is: 3.0\n",
      "94  percentile value is: 4.0\n",
      "95  percentile value is: 4.0\n",
      "96  percentile value is: 4.0\n",
      "97  percentile value is: 5.0\n",
      "98  percentile value is: 6.0\n",
      "99  percentile value is: 8.0\n",
      "100  percentile value is: 54.0\n"
     ]
    }
   ],
   "source": [
    "for i in range(90,101,1):\n",
    "    print(i,' percentile value is:',np.percentile(indegree_dist,i))"
   ]
  },
  {
   "cell_type": "code",
   "execution_count": 9,
   "metadata": {},
   "outputs": [
    {
     "name": "stdout",
     "output_type": "stream",
     "text": [
      "99.0 percentile value is: 8.0\n",
      "99.1 percentile value is: 8.0\n",
      "99.2 percentile value is: 8.0\n",
      "99.3 percentile value is: 9.0\n",
      "99.4 percentile value is: 9.0\n",
      "99.5 percentile value is: 10.0\n",
      "99.6 percentile value is: 11.0\n",
      "99.7 percentile value is: 12.0\n",
      "99.8 percentile value is: 14.0\n",
      "99.9 percentile value is: 17.0\n",
      "100.0 percentile value is: 54.0\n"
     ]
    }
   ],
   "source": [
    "for i in range(0,101,10):\n",
    "    j=99+(i/100)\n",
    "    print(j,'percentile value is:',np.percentile(indegree_dist,j))"
   ]
  },
  {
   "cell_type": "code",
   "execution_count": 10,
   "metadata": {},
   "outputs": [
    {
     "data": {
      "image/png": "[encoded data removed]",
      "text/plain": [
       "<Figure size 432x288 with 1 Axes>"
      ]
     },
     "metadata": {},
     "output_type": "display_data"
    }
   ],
   "source": [
    "plt.boxplot(indegree_dist)\n",
    "plt.ylabel('followers')\n",
    "plt.show()"
   ]
  },
  {
   "cell_type": "code",
   "execution_count": 11,
   "metadata": {},
   "outputs": [
    {
     "name": "stderr",
     "output_type": "stream",
     "text": [
      "C:\\Users\\kranti\\Anaconda3\\lib\\site-packages\\seaborn\\distributions.py:218: MatplotlibDeprecationWarning: \n",
      "The 'normed' kwarg was deprecated in Matplotlib 2.1 and will be removed in 3.1. Use 'density' instead.\n",
      "  color=hist_color, **hist_kws)\n"
     ]
    },
    {
     "data": {
      "image/png": "[encoded data removed]",
      "text/plain": [
       "<Figure size 842.4x595.44 with 1 Axes>"
      ]
     },
     "metadata": {},
     "output_type": "display_data"
    }
   ],
   "source": [
    "#%matplotlib inline\n",
    "\n",
    "sns.set_style('ticks')\n",
    "fig,ax=plt.subplots()\n",
    "fig.set_size_inches(11.7, 8.27)\n",
    "sns.distplot(indegree_dist,color='#16A085')\n",
    "plt.xlabel('PDF of Indegree')\n",
    "sns.despine()\n",
    "#plt.show()"
   ]
  },
  {
   "cell_type": "code",
   "execution_count": 12,
   "metadata": {},
   "outputs": [
    {
     "data": {
      "image/png": "[encoded data removed]",
      "text/plain": [
       "<Figure size 720x432 with 1 Axes>"
      ]
     },
     "metadata": {},
     "output_type": "display_data"
    }
   ],
   "source": [
    "outdegree_dist=list(dict(g.out_degree()).values())\n",
    "outdegree_dist.sort()\n",
    "plt.figure(figsize=(10,6))\n",
    "plt.plot(outdegree_dist)\n",
    "plt.xlabel('index number')\n",
    "plt.ylabel('number of user they follow')\n",
    "plt.show()"
   ]
  },
  {
   "cell_type": "code",
   "execution_count": 13,
   "metadata": {},
   "outputs": [
    {
     "name": "stdout",
     "output_type": "stream",
     "text": [
      "90  percentile value is: 4.0\n",
      "91  percentile value is: 4.0\n",
      "92  percentile value is: 5.0\n",
      "93  percentile value is: 6.0\n",
      "94  percentile value is: 7.0\n",
      "95  percentile value is: 8.0\n",
      "96  percentile value is: 10.0\n",
      "97  percentile value is: 12.0\n",
      "98  percentile value is: 16.0\n",
      "99  percentile value is: 23.0\n",
      "100  percentile value is: 895.0\n"
     ]
    }
   ],
   "source": [
    "for i in range(90,101,1):\n",
    "    print(i,' percentile value is:',np.percentile(outdegree_dist,i))"
   ]
  },
  {
   "cell_type": "code",
   "execution_count": 14,
   "metadata": {},
   "outputs": [
    {
     "name": "stdout",
     "output_type": "stream",
     "text": [
      "99.0 percentile value is: 23.0\n",
      "99.1 percentile value is: 24.0\n",
      "99.2 percentile value is: 25.0\n",
      "99.3 percentile value is: 27.0\n",
      "99.4 percentile value is: 29.0\n",
      "99.5 percentile value is: 31.0\n",
      "99.6 percentile value is: 34.90399999998044\n",
      "99.7 percentile value is: 39.0\n",
      "99.8 percentile value is: 48.0\n",
      "99.9 percentile value is: 68.0\n",
      "100.0 percentile value is: 895.0\n"
     ]
    }
   ],
   "source": [
    "for i in range(0,101,10):\n",
    "    j=99+(i/100)\n",
    "    print(j,'percentile value is:',np.percentile(outdegree_dist,j))"
   ]
  },
  {
   "cell_type": "code",
   "execution_count": 15,
   "metadata": {},
   "outputs": [
    {
     "name": "stderr",
     "output_type": "stream",
     "text": [
      "C:\\Users\\kranti\\Anaconda3\\lib\\site-packages\\seaborn\\distributions.py:218: MatplotlibDeprecationWarning: \n",
      "The 'normed' kwarg was deprecated in Matplotlib 2.1 and will be removed in 3.1. Use 'density' instead.\n",
      "  color=hist_color, **hist_kws)\n"
     ]
    },
    {
     "data": {
      "image/png": "[encoded data removed]",
      "text/plain": [
       "<Figure size 842.4x595.44 with 1 Axes>"
      ]
     },
     "metadata": {},
     "output_type": "display_data"
    }
   ],
   "source": [
    "sns.set_style('ticks')\n",
    "fig,ax=plt.subplots()\n",
    "fig.set_size_inches(11.7, 8.27)\n",
    "sns.distplot(outdegree_dist,color='#16A085')\n",
    "plt.xlabel('PDF of outdegree')\n",
    "sns.despine()\n",
    "#plt.show()"
   ]
  },
  {
   "cell_type": "code",
   "execution_count": 16,
   "metadata": {},
   "outputs": [
    {
     "name": "stdout",
     "output_type": "stream",
     "text": [
      "number of users that dont follow anyone is: 518757\n",
      "percentage of users that dont follow anyone is: 75.6453647333309\n"
     ]
    }
   ],
   "source": [
    "print('number of users that dont follow anyone is:',sum(np.array(outdegree_dist)==0))\n",
    "print('percentage of users that dont follow anyone is:',((sum(np.array(outdegree_dist)==0)/len(outdegree_dist))*100))\n"
   ]
  },
  {
   "cell_type": "code",
   "execution_count": 17,
   "metadata": {},
   "outputs": [
    {
     "name": "stdout",
     "output_type": "stream",
     "text": [
      "number of users that dont have followers: 111814\n",
      "percentage of users that dont have followers: 16.304764682293754\n"
     ]
    }
   ],
   "source": [
    "print('number of users that dont have followers:',sum(np.array(indegree_dist)==0))\n",
    "print('percentage of users that dont have followers:',((sum(np.array(indegree_dist)==0)/len(indegree_dist))*100))\n"
   ]
  },
  {
   "cell_type": "code",
   "execution_count": 18,
   "metadata": {},
   "outputs": [
    {
     "name": "stdout",
     "output_type": "stream",
     "text": [
      "No of persons those are not not following anyone and also not having any followers are 0\n"
     ]
    }
   ],
   "source": [
    "count=0\n",
    "for i in g.nodes():\n",
    "    if len(list(g.predecessors(i)))==0 :\n",
    "        if len(list(g.successors(i)))==0:\n",
    "            count+=1\n",
    "print('No of persons those are not not following anyone and also not having any followers are',count)"
   ]
  },
  {
   "cell_type": "code",
   "execution_count": 19,
   "metadata": {},
   "outputs": [],
   "source": [
    "from collections import Counter\n",
    "dict_in = dict(g.in_degree())\n",
    "dict_out = dict(g.out_degree())\n",
    "d = Counter(dict_in) + Counter(dict_out)\n",
    "in_out_degree = np.array(list(d.values()))"
   ]
  },
  {
   "cell_type": "code",
   "execution_count": 20,
   "metadata": {},
   "outputs": [
    {
     "data": {
      "image/png": "[encoded data removed]",
      "text/plain": [
       "<Figure size 720x432 with 1 Axes>"
      ]
     },
     "metadata": {},
     "output_type": "display_data"
    }
   ],
   "source": [
    "in_out_degree_sort = sorted(in_out_degree)\n",
    "plt.figure(figsize=(10,6))\n",
    "plt.plot(in_out_degree_sort)\n",
    "plt.xlabel('Index No')\n",
    "plt.ylabel('No Of people each person is following + followers')\n",
    "plt.show()"
   ]
  },
  {
   "cell_type": "code",
   "execution_count": 21,
   "metadata": {},
   "outputs": [
    {
     "name": "stdout",
     "output_type": "stream",
     "text": [
      "90 percentile value is 6.0\n",
      "91 percentile value is 6.0\n",
      "92 percentile value is 7.0\n",
      "93 percentile value is 7.0\n",
      "94 percentile value is 8.0\n",
      "95 percentile value is 10.0\n",
      "96 percentile value is 11.0\n",
      "97 percentile value is 14.0\n",
      "98 percentile value is 18.0\n",
      "99 percentile value is 25.0\n",
      "100 percentile value is 896.0\n"
     ]
    }
   ],
   "source": [
    "for i in range(0,11):\n",
    "    print(90+i,'percentile value is',np.percentile(in_out_degree_sort,90+i))"
   ]
  },
  {
   "cell_type": "code",
   "execution_count": 22,
   "metadata": {},
   "outputs": [
    {
     "name": "stdout",
     "output_type": "stream",
     "text": [
      "99.0 percentile value is: 25.0\n",
      "99.1 percentile value is: 27.0\n",
      "99.2 percentile value is: 28.0\n",
      "99.3 percentile value is: 30.0\n",
      "99.4 percentile value is: 32.0\n",
      "99.5 percentile value is: 35.0\n",
      "99.6 percentile value is: 38.0\n",
      "99.7 percentile value is: 44.0\n",
      "99.8 percentile value is: 53.0\n",
      "99.9 percentile value is: 74.22600000002421\n",
      "100.0 percentile value is: 896.0\n"
     ]
    }
   ],
   "source": [
    "for i in range(0,101,10):\n",
    "    j=99+(i/100)\n",
    "    print(j,'percentile value is:',np.percentile(in_out_degree_sort,j))"
   ]
  },
  {
   "cell_type": "code",
   "execution_count": 23,
   "metadata": {},
   "outputs": [
    {
     "name": "stdout",
     "output_type": "stream",
     "text": [
      "Min of no of followers + following is 1\n",
      "383622  persons having minimum no of followers + following\n"
     ]
    }
   ],
   "source": [
    "print('Min of no of followers + following is',in_out_degree.min())\n",
    "print(np.sum(in_out_degree==in_out_degree.min()),' persons having minimum no of followers + following')"
   ]
  },
  {
   "cell_type": "code",
   "execution_count": 24,
   "metadata": {},
   "outputs": [
    {
     "name": "stdout",
     "output_type": "stream",
     "text": [
      "Max of no of followers + following is 896\n",
      "1  persons having maximum no of followers + following\n"
     ]
    }
   ],
   "source": [
    "print('Max of no of followers + following is',in_out_degree.max())\n",
    "print(np.sum(in_out_degree==in_out_degree.max()),' persons having maximum no of followers + following')"
   ]
  },
  {
   "cell_type": "code",
   "execution_count": 25,
   "metadata": {},
   "outputs": [
    {
     "name": "stdout",
     "output_type": "stream",
     "text": [
      "No of persons having followers + following less than 10 are 650278\n"
     ]
    }
   ],
   "source": [
    "print('No of persons having followers + following less than 10 are',np.sum(in_out_degree<10))"
   ]
  },
  {
   "cell_type": "code",
   "execution_count": 26,
   "metadata": {},
   "outputs": [
    {
     "name": "stdout",
     "output_type": "stream",
     "text": [
      "number of weakly connected components 42096\n"
     ]
    }
   ],
   "source": [
    "print('number of weakly connected components',len(list(nx.weakly_connected_components(g))))"
   ]
  },
  {
   "cell_type": "code",
   "execution_count": 27,
   "metadata": {},
   "outputs": [
    {
     "name": "stdout",
     "output_type": "stream",
     "text": [
      "weakly connected components with only 2 nodes: 24994\n"
     ]
    }
   ],
   "source": [
    "count=0\n",
    "for i in list(nx.weakly_connected_components(g)):\n",
    "    if len(i)==2:\n",
    "        count+=1\n",
    "print('weakly connected components with only 2 nodes:',count)"
   ]
  },
  {
   "cell_type": "code",
   "execution_count": 31,
   "metadata": {},
   "outputs": [
    {
     "name": "stdout",
     "output_type": "stream",
     "text": [
      "Wall time: 429 ms\n"
     ]
    }
   ],
   "source": [
    "%%time\n",
    "if os.path.isfile('missing_edges_final.p'):\n",
    "    missingedges = pickle.load(open('missing_edges_final.p','rb'))\n",
    "else:\n",
    "    import random\n",
    "    r=csv.reader(open('train_woheader.csv','r'))\n",
    "    edges=dict()\n",
    "    for edge in r:\n",
    "        edges[(edge[0],edge[1])]=1\n",
    "    \n",
    "    missingedges=set([])\n",
    "\n",
    "    while (len(missingedges)<1000000):\n",
    "        a=random.randint(1,1000000)\n",
    "        b=random.randint(1,1000000)\n",
    "        x=edges.get((a,b),0)\n",
    "        if x==0 and a!=b:\n",
    "            try:\n",
    "                if nx.shortest_path_length(g,source=a,target=b) > 2:\n",
    "                    missingedges.add((a,b))\n",
    "                else:\n",
    "                    continue  \n",
    "            except:  \n",
    "                 missingedges.add((a,b)) \n",
    "        else:\n",
    "            continue\n",
    "    pickle.dump(missingedges,open('missing_edges_final.p','wb'))\n",
    "\n",
    "    print(len(missingedges))\n",
    "    "
   ]
  },
  {
   "cell_type": "code",
   "execution_count": 30,
   "metadata": {},
   "outputs": [
    {
     "ename": "SyntaxError",
     "evalue": "invalid syntax (<ipython-input-30-9c7cc46abe71>, line 1)",
     "output_type": "error",
     "traceback": [
      "\u001b[1;36m  File \u001b[1;32m\"<ipython-input-30-9c7cc46abe71>\"\u001b[1;36m, line \u001b[1;32m1\u001b[0m\n\u001b[1;33m    TRAIN TEST DATA Split\u001b[0m\n\u001b[1;37m             ^\u001b[0m\n\u001b[1;31mSyntaxError\u001b[0m\u001b[1;31m:\u001b[0m invalid syntax\n"
     ]
    }
   ],
   "source": [
    "TRAIN TEST DATA Split"
   ]
  },
  {
   "cell_type": "code",
   "execution_count": null,
   "metadata": {},
   "outputs": [],
   "source": []
  },
  {
   "cell_type": "code",
   "execution_count": 32,
   "metadata": {},
   "outputs": [
    {
     "name": "stdout",
     "output_type": "stream",
     "text": [
      "Number of nodes in the graph with edges 1000000\n",
      "Number of nodes in the graph without edges 1000000\n"
     ]
    },
    {
     "data": {
      "text/html": [
       "<div>\n",
       "<style scoped>\n",
       "    .dataframe tbody tr th:only-of-type {\n",
       "        vertical-align: middle;\n",
       "    }\n",
       "\n",
       "    .dataframe tbody tr th {\n",
       "        vertical-align: top;\n",
       "    }\n",
       "\n",
       "    .dataframe thead th {\n",
       "        text-align: right;\n",
       "    }\n",
       "</style>\n",
       "<table border=\"1\" class=\"dataframe\">\n",
       "  <thead>\n",
       "    <tr style=\"text-align: right;\">\n",
       "      <th></th>\n",
       "      <th>source_node</th>\n",
       "      <th>destination_node</th>\n",
       "    </tr>\n",
       "  </thead>\n",
       "  <tbody>\n",
       "    <tr>\n",
       "      <th>0</th>\n",
       "      <td>922968</td>\n",
       "      <td>613267</td>\n",
       "    </tr>\n",
       "    <tr>\n",
       "      <th>1</th>\n",
       "      <td>353945</td>\n",
       "      <td>804368</td>\n",
       "    </tr>\n",
       "    <tr>\n",
       "      <th>2</th>\n",
       "      <td>196965</td>\n",
       "      <td>751083</td>\n",
       "    </tr>\n",
       "    <tr>\n",
       "      <th>3</th>\n",
       "      <td>692402</td>\n",
       "      <td>843046</td>\n",
       "    </tr>\n",
       "    <tr>\n",
       "      <th>4</th>\n",
       "      <td>102083</td>\n",
       "      <td>395100</td>\n",
       "    </tr>\n",
       "  </tbody>\n",
       "</table>\n",
       "</div>"
      ],
      "text/plain": [
       "   source_node  destination_node\n",
       "0       922968            613267\n",
       "1       353945            804368\n",
       "2       196965            751083\n",
       "3       692402            843046\n",
       "4       102083            395100"
      ]
     },
     "execution_count": 32,
     "metadata": {},
     "output_type": "execute_result"
    }
   ],
   "source": [
    "data_pos=pd.read_csv('train1.csv')\n",
    "data_neg=pd.DataFrame(list(missingedges),columns=['source_node','destination_node'])\n",
    "print(\"Number of nodes in the graph with edges\", data_pos.shape[0])\n",
    "print(\"Number of nodes in the graph without edges\", data_neg.shape[0])\n",
    "data_pos.head()\n",
    "data_neg.head()"
   ]
  },
  {
   "cell_type": "code",
   "execution_count": 33,
   "metadata": {},
   "outputs": [
    {
     "name": "stdout",
     "output_type": "stream",
     "text": [
      "============================================================\n",
      "Number of nodes in the train data graph with edges 800000 = 800000\n",
      "Number of nodes in the train data graph without edges 800000 = 800000\n",
      "============================================================\n",
      "Number of nodes in the test data graph with edges 200000 = 200000\n",
      "Number of nodes in the test data graph without edges 200000 = 200000\n"
     ]
    }
   ],
   "source": [
    "from sklearn.model_selection import train_test_split\n",
    "x_train_pos,x_test_pos,y_train_pos,y_test_pos = train_test_split(data_pos,np.ones(len(data_pos)),test_size=0.2,random_state=9)\n",
    "x_train_neg,x_test_neg,y_train_neg,y_test_neg = train_test_split(data_neg,np.zeros(len(data_neg)),test_size=0.2,random_state=9)\n",
    "print('='*60)\n",
    "\n",
    "print(\"Number of nodes in the train data graph with edges\", x_train_pos.shape[0],\"=\",y_train_pos.shape[0])\n",
    "print(\"Number of nodes in the train data graph without edges\", x_train_neg.shape[0],\"=\", y_train_neg.shape[0])\n",
    "print('='*60)\n",
    "print(\"Number of nodes in the test data graph with edges\", x_test_pos.shape[0],\"=\",y_test_pos.shape[0])\n",
    "print(\"Number of nodes in the test data graph without edges\", x_test_neg.shape[0],\"=\",y_test_neg.shape[0])\n"
   ]
  },
  {
   "cell_type": "markdown",
   "metadata": {},
   "source": [
    "# STORING TRAIN TEST DATA SEPERATELY"
   ]
  },
  {
   "cell_type": "code",
   "execution_count": 34,
   "metadata": {},
   "outputs": [],
   "source": [
    "x_train_pos.to_csv('x_train_pos_after_eda.csv',header=False,index=False)\n",
    "x_test_pos.to_csv('x_test_pos_after_eda.csv',header=False,index=False)\n",
    "x_train_neg.to_csv('x_train_neg_after_eda.csv',header=False,index=False)\n",
    "x_test_neg.to_csv('x_test_neg_after_eda.csv',header=False,index=False)\n",
    "\n"
   ]
  },
  {
   "cell_type": "code",
   "execution_count": null,
   "metadata": {},
   "outputs": [],
   "source": [
    "#del missingedges\n"
   ]
  },
  {
   "cell_type": "code",
   "execution_count": 21,
   "metadata": {},
   "outputs": [],
   "source": [
    "train_graph=nx.read_edgelist('x_train_pos_after_eda.csv',delimiter=',',create_using=nx.DiGraph(),nodetype=int)\n"
   ]
  },
  {
   "cell_type": "code",
   "execution_count": 37,
   "metadata": {},
   "outputs": [
    {
     "name": "stdout",
     "output_type": "stream",
     "text": [
      "Name: \n",
      "Type: DiGraph\n",
      "Number of nodes: 603211\n",
      "Number of edges: 800000\n",
      "Average in degree:   1.3262\n",
      "Average out degree:   1.3262\n"
     ]
    }
   ],
   "source": [
    "print(nx.info(train_graph))\n"
   ]
  },
  {
   "cell_type": "code",
   "execution_count": 38,
   "metadata": {},
   "outputs": [
    {
     "name": "stdout",
     "output_type": "stream",
     "text": [
      "Name: \n",
      "Type: DiGraph\n",
      "Number of nodes: 241514\n",
      "Number of edges: 200000\n",
      "Average in degree:   0.8281\n",
      "Average out degree:   0.8281\n"
     ]
    }
   ],
   "source": [
    "test_graph=nx.read_edgelist('x_test_pos_after_eda.csv',delimiter=',',create_using=nx.DiGraph(),nodetype=int)\n",
    "print(nx.info(test_graph))\n"
   ]
  },
  {
   "cell_type": "code",
   "execution_count": 39,
   "metadata": {},
   "outputs": [
    {
     "name": "stdout",
     "output_type": "stream",
     "text": [
      "number of common nodes in train and set data: 158950\n",
      "number of nodes not there in test but in train data: 444261\n",
      "number of nodes not there in train but in test data: 82564\n",
      " % of people not there in Train but exist in Test in total Test data are 34.18600992074994 %\n"
     ]
    }
   ],
   "source": [
    "train_set=set(train_graph.nodes())\n",
    "test_set=set(nx.nodes(test_graph))\n",
    "print('number of common nodes in train and set data:',len(train_set.intersection(test_set)))\n",
    "print('number of nodes not there in test but in train data:',len(train_set-test_set))\n",
    "print('number of nodes not there in train but in test data:',len(test_set-train_set))\n",
    "print(' % of people not there in Train but exist in Test in total Test data are {} %'.format(len(test_set-train_set)/len(test_set)*100))"
   ]
  },
  {
   "cell_type": "raw",
   "metadata": {},
   "source": [
    "\n"
   ]
  },
  {
   "cell_type": "code",
   "execution_count": 92,
   "metadata": {},
   "outputs": [],
   "source": [
    "x_train_pos = pd.read_csv('x_train_pos_after_eda.csv', names=['source_node', 'destination_node'])\n",
    "x_test_pos = pd.read_csv('x_test_pos_after_eda.csv', names=['source_node', 'destination_node'])\n",
    "x_train_neg = pd.read_csv('x_train_neg_after_eda.csv', names=['source_node', 'destination_node'])\n",
    "x_test_neg = pd.read_csv('x_test_neg_after_eda.csv', names=['source_node', 'destination_node'])\n",
    "x_train=x_train_pos.append(x_train_neg,ignore_index=True)\n",
    "x_test=x_test_pos.append(x_test_neg,ignore_index=True)\n",
    "y_train=np.concatenate((y_train_pos,y_train_neg))\n",
    "y_test=np.concatenate((y_test_pos,y_test_neg))\n",
    "\n",
    "x_train.to_csv('train_after_eda.csv',header=False,index=False)\n",
    "x_test.to_csv('test_after_eda.csv',header=False,index=False)\n",
    "pd.DataFrame(y_train.astype(int)).to_csv('train_y.csv',header=False,index=False)\n",
    "pd.DataFrame(y_test.astype(int)).to_csv('test_y.csv',header=False,index=False)"
   ]
  },
  {
   "cell_type": "code",
   "execution_count": 41,
   "metadata": {},
   "outputs": [
    {
     "name": "stdout",
     "output_type": "stream",
     "text": [
      "Number of nodes in the train data graph with edges 800000\n",
      "Number of nodes in the train data graph without edges 800000\n",
      "============================================================\n",
      "Number of nodes in the test data graph with edges 200000\n",
      "Number of nodes in the test data graph without edges 200000\n",
      "============================================================\n",
      "Data points in train data (1600000, 2)\n",
      "Data points in test data (400000, 2)\n",
      "Shape of traget variable in train (1600000,)\n",
      "Shape of traget variable in test (400000,)\n"
     ]
    }
   ],
   "source": [
    "print(\"Number of nodes in the train data graph with edges\", x_train_pos.shape[0])\n",
    "print(\"Number of nodes in the train data graph without edges\", x_train_neg.shape[0])\n",
    "print('='*60)\n",
    "print(\"Number of nodes in the test data graph with edges\", x_test_pos.shape[0])\n",
    "print(\"Number of nodes in the test data graph without edges\", x_test_neg.shape[0])\n",
    "print('='*60)\n",
    "print(\"Data points in train data\",x_train.shape)\n",
    "print(\"Data points in test data\",x_test.shape)\n",
    "print(\"Shape of traget variable in train\",y_train.shape)\n",
    "print(\"Shape of traget variable in test\", y_test.shape)"
   ]
  },
  {
   "cell_type": "code",
   "execution_count": null,
   "metadata": {},
   "outputs": [],
   "source": [
    "Featurization"
   ]
  },
  {
   "cell_type": "code",
   "execution_count": null,
   "metadata": {},
   "outputs": [],
   "source": [
    "JACCARD DISTANCE"
   ]
  },
  {
   "cell_type": "code",
   "execution_count": 10,
   "metadata": {},
   "outputs": [],
   "source": [
    "def jaccard_for_followees(a,b):\n",
    "    try:\n",
    "        if len(set(train_graph.successors(a))) == 0  | len(set(train_graph.successors(b))) == 0:\n",
    "            return 0\n",
    "        sim = (len(set(train_graph.successors(a)).intersection(set(train_graph.successors(b)))))/\\\n",
    "                                    (len(set(train_graph.successors(a)).union(set(train_graph.successors(b)))))\n",
    "    except:\n",
    "        return 0\n",
    "    return sim"
   ]
  },
  {
   "cell_type": "code",
   "execution_count": 43,
   "metadata": {},
   "outputs": [
    {
     "data": {
      "text/plain": [
       "0.0"
      ]
     },
     "execution_count": 43,
     "metadata": {},
     "output_type": "execute_result"
    }
   ],
   "source": [
    "jaccard_for_followees(1,50000)"
   ]
  },
  {
   "cell_type": "code",
   "execution_count": 44,
   "metadata": {},
   "outputs": [
    {
     "data": {
      "text/plain": [
       "1.0"
      ]
     },
     "execution_count": 44,
     "metadata": {},
     "output_type": "execute_result"
    }
   ],
   "source": [
    "jaccard_for_followees(1,1)"
   ]
  },
  {
   "cell_type": "code",
   "execution_count": 11,
   "metadata": {},
   "outputs": [],
   "source": [
    "def jaccard_for_followers(a,b):\n",
    "    try:\n",
    "        if len(set(train_graph.predecessors(a)))==0 or len(set(train_graph.predecessors(b)))==0:\n",
    "            return 0\n",
    "        else:\n",
    "            s=(len(set(train_graph.predecessors(a)).intersection(set(train_graph.predecessors(b)))))/\\\n",
    "                                    (len(set(train_graph.predecessors(a)).union(set(train_graph.predecessors(b)))))\n",
    "    except:\n",
    "        return 0\n",
    "    return s"
   ]
  },
  {
   "cell_type": "code",
   "execution_count": 46,
   "metadata": {},
   "outputs": [
    {
     "data": {
      "text/plain": [
       "0"
      ]
     },
     "execution_count": 46,
     "metadata": {},
     "output_type": "execute_result"
    }
   ],
   "source": [
    "jacccard_for_followers(15453,145)"
   ]
  },
  {
   "cell_type": "code",
   "execution_count": 47,
   "metadata": {},
   "outputs": [
    {
     "data": {
      "text/plain": [
       "0"
      ]
     },
     "execution_count": 47,
     "metadata": {},
     "output_type": "execute_result"
    }
   ],
   "source": [
    "jacccard_for_followers(1543,4545)"
   ]
  },
  {
   "cell_type": "code",
   "execution_count": 48,
   "metadata": {},
   "outputs": [
    {
     "ename": "SyntaxError",
     "evalue": "invalid syntax (<ipython-input-48-c5764ae4d01a>, line 1)",
     "output_type": "error",
     "traceback": [
      "\u001b[1;36m  File \u001b[1;32m\"<ipython-input-48-c5764ae4d01a>\"\u001b[1;36m, line \u001b[1;32m1\u001b[0m\n\u001b[1;33m    cosine distance\u001b[0m\n\u001b[1;37m                  ^\u001b[0m\n\u001b[1;31mSyntaxError\u001b[0m\u001b[1;31m:\u001b[0m invalid syntax\n"
     ]
    }
   ],
   "source": [
    "cosine distance"
   ]
  },
  {
   "cell_type": "code",
   "execution_count": 12,
   "metadata": {},
   "outputs": [],
   "source": [
    "def cosine_for_followees(a,b):\n",
    "    try:\n",
    "        if len(set(train_graph.successors(a))) == 0  | len(set(train_graph.successors(b))) == 0:\n",
    "            return 0\n",
    "        sim = (len(set(train_graph.successors(a)).intersection(set(train_graph.successors(b)))))/\\\n",
    "                                    (math.sqrt(len(set(train_graph.successors(a)))*len((set(train_graph.successors(b))))))\n",
    "        return sim\n",
    "    except:\n",
    "        return 0"
   ]
  },
  {
   "cell_type": "code",
   "execution_count": 13,
   "metadata": {},
   "outputs": [],
   "source": [
    "def cosine_for_followers(a,b):\n",
    "    try:\n",
    "        if len(set(train_graph.predeccessors(a))) == 0  | len(set(train_graph.predecessors(b))) == 0:\n",
    "            return 0\n",
    "        sim = (len(set(train_graph.predecessors(a)).intersection(set(train_graph.predecessors(b)))))/\\\n",
    "                                    (math.sqrt(len(set(train_graph.predecessors(a)))*len((set(train_graph.predecessors(b))))))\n",
    "        return sim\n",
    "    except:\n",
    "        return 0"
   ]
  },
  {
   "cell_type": "markdown",
   "metadata": {},
   "source": [
    "# PAGE RANK"
   ]
  },
  {
   "cell_type": "code",
   "execution_count": 23,
   "metadata": {},
   "outputs": [
    {
     "name": "stdout",
     "output_type": "stream",
     "text": [
      "Wall time: 1min 25s\n"
     ]
    }
   ],
   "source": [
    "%%time\n",
    "#if os.path.isfile('train_pos_pagerank.p'):\n",
    "    #pickle.load(open('train_pos_pagerank.p','rb'))\n",
    "#else:    \n",
    "pr=nx.pagerank(train_graph,alpha=0.85)\n",
    "pickle.dump(pr,open('train_pos_pagerank.p','wb'))"
   ]
  },
  {
   "cell_type": "code",
   "execution_count": 24,
   "metadata": {},
   "outputs": [
    {
     "name": "stdout",
     "output_type": "stream",
     "text": [
      "min 1.2947716283189228e-06\n",
      "max 9.092966339965145e-06\n",
      "mean 1.6577947020327028e-06\n"
     ]
    }
   ],
   "source": [
    "print('min',pr[min(pr, key=pr.get)])\n",
    "print('max',pr[max(pr, key=pr.get)])\n",
    "print('mean',float(sum(pr.values())) / len(pr))\n",
    "\n",
    "mean_pr=float(sum(pr.values())) / len(pr)"
   ]
  },
  {
   "cell_type": "code",
   "execution_count": 54,
   "metadata": {},
   "outputs": [
    {
     "ename": "SyntaxError",
     "evalue": "invalid syntax (<ipython-input-54-e0ecefdc40fe>, line 1)",
     "output_type": "error",
     "traceback": [
      "\u001b[1;36m  File \u001b[1;32m\"<ipython-input-54-e0ecefdc40fe>\"\u001b[1;36m, line \u001b[1;32m1\u001b[0m\n\u001b[1;33m    Shortest path\u001b[0m\n\u001b[1;37m                ^\u001b[0m\n\u001b[1;31mSyntaxError\u001b[0m\u001b[1;31m:\u001b[0m invalid syntax\n"
     ]
    }
   ],
   "source": [
    "Shortest path"
   ]
  },
  {
   "cell_type": "markdown",
   "metadata": {},
   "source": [
    "# shortest path"
   ]
  },
  {
   "cell_type": "code",
   "execution_count": 25,
   "metadata": {},
   "outputs": [],
   "source": [
    "def compute_shortest_path_length(a,b):\n",
    "    p=-1\n",
    "    try:\n",
    "        if train_graph.has_edge(a,b):\n",
    "            train_graph.remove_edge(a,b)\n",
    "            p= nx.shortest_path_length(train_graph,source=a,target=b)\n",
    "            train_graph.add_edge(a,b)\n",
    "        else:\n",
    "            p= nx.shortest_path_length(train_graph,source=a,target=b)\n",
    "        return p\n",
    "    except:\n",
    "        return -1"
   ]
  },
  {
   "cell_type": "code",
   "execution_count": 56,
   "metadata": {},
   "outputs": [
    {
     "data": {
      "text/plain": [
       "-1"
      ]
     },
     "execution_count": 56,
     "metadata": {},
     "output_type": "execute_result"
    }
   ],
   "source": [
    "compute_shortest_path_length(1,1000)"
   ]
  },
  {
   "cell_type": "code",
   "execution_count": 57,
   "metadata": {},
   "outputs": [
    {
     "data": {
      "text/plain": [
       "-1"
      ]
     },
     "execution_count": 57,
     "metadata": {},
     "output_type": "execute_result"
    }
   ],
   "source": [
    "compute_shortest_path_length(10,5451)"
   ]
  },
  {
   "cell_type": "code",
   "execution_count": 58,
   "metadata": {},
   "outputs": [
    {
     "data": {
      "text/plain": [
       "2"
      ]
     },
     "execution_count": 58,
     "metadata": {},
     "output_type": "execute_result"
    }
   ],
   "source": [
    "compute_shortest_path_length(1, 690569)"
   ]
  },
  {
   "cell_type": "markdown",
   "metadata": {},
   "source": [
    "# adhar index"
   ]
  },
  {
   "cell_type": "code",
   "execution_count": 26,
   "metadata": {},
   "outputs": [],
   "source": [
    "def calc_adar_in(a,b):\n",
    "    sum=0\n",
    "    try:\n",
    "        n=list(set(train_graph.successors(a)).intersection(set(train_graph.successors(b))))\n",
    "        if len(n)!=0:\n",
    "            for i in n:\n",
    "                sum=sum+(1/np.log10(len(list(train_graph.predecessors(i)))))\n",
    "            return sum\n",
    "        else:\n",
    "            return 0\n",
    "    except:\n",
    "        return 0"
   ]
  },
  {
   "cell_type": "code",
   "execution_count": 60,
   "metadata": {},
   "outputs": [
    {
     "data": {
      "text/plain": [
       "0"
      ]
     },
     "execution_count": 60,
     "metadata": {},
     "output_type": "execute_result"
    }
   ],
   "source": [
    "calc_adar_in(1, 690569)"
   ]
  },
  {
   "cell_type": "code",
   "execution_count": 27,
   "metadata": {},
   "outputs": [],
   "source": [
    "wcc=list(nx.weakly_connected_components(train_graph))"
   ]
  },
  {
   "cell_type": "code",
   "execution_count": 28,
   "metadata": {},
   "outputs": [],
   "source": [
    "def belongs_to_same_wcc(a,b):\n",
    "    index = []\n",
    "    if train_graph.has_edge(b,a):\n",
    "        return 1\n",
    "    if train_graph.has_edge(a,b):\n",
    "            for i in wcc:\n",
    "                if a in i:\n",
    "                    index= i\n",
    "                    break\n",
    "            if (b in index):\n",
    "                train_graph.remove_edge(a,b)\n",
    "                if compute_shortest_path_length(a,b)==-1:\n",
    "                    train_graph.add_edge(a,b)\n",
    "                    return 0\n",
    "                else:\n",
    "                    train_graph.add_edge(a,b)\n",
    "                    return 1\n",
    "            else:\n",
    "                return 0\n",
    "    else:\n",
    "            for i in wcc:\n",
    "                if a in i:\n",
    "                    index= i\n",
    "                    break\n",
    "            if(b in index):\n",
    "                return 1\n",
    "            else:\n",
    "                return 0"
   ]
  },
  {
   "cell_type": "code",
   "execution_count": 63,
   "metadata": {},
   "outputs": [
    {
     "data": {
      "text/plain": [
       "0"
      ]
     },
     "execution_count": 63,
     "metadata": {},
     "output_type": "execute_result"
    }
   ],
   "source": [
    "belongs_to_same_wcc(457,254)"
   ]
  },
  {
   "cell_type": "code",
   "execution_count": 64,
   "metadata": {},
   "outputs": [
    {
     "data": {
      "text/plain": [
       "1"
      ]
     },
     "execution_count": 64,
     "metadata": {},
     "output_type": "execute_result"
    }
   ],
   "source": [
    "belongs_to_same_wcc(1,690569)"
   ]
  },
  {
   "cell_type": "markdown",
   "metadata": {},
   "source": [
    "# follow back"
   ]
  },
  {
   "cell_type": "code",
   "execution_count": 29,
   "metadata": {},
   "outputs": [],
   "source": [
    "def follows_back(a,b):\n",
    "    if train_graph.has_edge(b,a):\n",
    "        return 1\n",
    "    else:\n",
    "        return 0"
   ]
  },
  {
   "cell_type": "code",
   "execution_count": 66,
   "metadata": {},
   "outputs": [
    {
     "data": {
      "text/plain": [
       "0"
      ]
     },
     "execution_count": 66,
     "metadata": {},
     "output_type": "execute_result"
    }
   ],
   "source": [
    "follows_back(1,690569)"
   ]
  },
  {
   "cell_type": "code",
   "execution_count": 67,
   "metadata": {},
   "outputs": [
    {
     "data": {
      "text/plain": [
       "1"
      ]
     },
     "execution_count": 67,
     "metadata": {},
     "output_type": "execute_result"
    }
   ],
   "source": [
    "follows_back(690569,1)"
   ]
  },
  {
   "cell_type": "markdown",
   "metadata": {},
   "source": [
    "# karz centrality "
   ]
  },
  {
   "cell_type": "code",
   "execution_count": 30,
   "metadata": {},
   "outputs": [
    {
     "name": "stdout",
     "output_type": "stream",
     "text": [
      "Wall time: 32.5 s\n"
     ]
    }
   ],
   "source": [
    "%%time\n",
    "#if os.path.isfile('hits.p'):\n",
    "#    pickle.load(open('hits.p','rb'))\n",
    "#else:\n",
    "katz = nx.katz.katz_centrality(train_graph,alpha=0.005,beta=1)\n",
    "pickle.dump(katz,open('katz.p','wb'))"
   ]
  },
  {
   "cell_type": "code",
   "execution_count": 31,
   "metadata": {},
   "outputs": [
    {
     "name": "stdout",
     "output_type": "stream",
     "text": [
      "min 0.0012789649793724207\n",
      "max 0.0015878986575927618\n",
      "mean 0.0012875195289129876\n"
     ]
    }
   ],
   "source": [
    "print('min',katz[min(katz, key=katz.get)])\n",
    "print('max',katz[max(katz, key=katz.get)])\n",
    "print('mean',float(sum(katz.values())) / len(katz))\n",
    "\n",
    "mean_karz=float(sum(katz.values())) / len(katz)"
   ]
  },
  {
   "cell_type": "markdown",
   "metadata": {},
   "source": [
    "# hits score"
   ]
  },
  {
   "cell_type": "code",
   "execution_count": 34,
   "metadata": {},
   "outputs": [
    {
     "name": "stdout",
     "output_type": "stream",
     "text": [
      "Wall time: 885 ms\n"
     ]
    }
   ],
   "source": [
    "%%time\n",
    "if os.path.isfile('hits.p'):\n",
    "    hits=pickle.load(open('hits.p','rb'))\n",
    "else:\n",
    "    hits = nx.hits(train_graph, max_iter=100, tol=1e-08, nstart=None, normalized=True)\n",
    "    pickle.dump(hits,open('hits.p','wb'))"
   ]
  },
  {
   "cell_type": "code",
   "execution_count": 35,
   "metadata": {},
   "outputs": [
    {
     "name": "stdout",
     "output_type": "stream",
     "text": [
      "min 0.0\n",
      "max 0.03226844048202257\n",
      "mean 1.6577947020197019e-06\n"
     ]
    }
   ],
   "source": [
    "print('min',hits[0][min(hits[0], key=hits[0].get)])\n",
    "print('max',hits[0][max(hits[0], key=hits[0].get)])\n",
    "print('mean',float(sum(hits[0].values())) / len(hits[0]))\n"
   ]
  },
  {
   "cell_type": "markdown",
   "metadata": {},
   "source": [
    "# Featurization to train and test data"
   ]
  },
  {
   "cell_type": "markdown",
   "metadata": {},
   "source": [
    "# selecting random sample from data"
   ]
  },
  {
   "cell_type": "code",
   "execution_count": 36,
   "metadata": {},
   "outputs": [
    {
     "name": "stdout",
     "output_type": "stream",
     "text": [
      "(1599999, 2)\n",
      "1600000\n"
     ]
    }
   ],
   "source": [
    "import random\n",
    "file=pd.read_csv('train_after_eda.csv')\n",
    "filename='train_after_eda.csv'\n",
    "print(file.shape)\n",
    "n_train = sum(1 for line in open(filename))\n",
    "print(n_train)"
   ]
  },
  {
   "cell_type": "code",
   "execution_count": 37,
   "metadata": {},
   "outputs": [
    {
     "name": "stdout",
     "output_type": "stream",
     "text": [
      "Number of rows in the train data file: 1600000\n",
      "Number of rows we are going to elimiate in train data are 1500000\n"
     ]
    }
   ],
   "source": [
    "\n",
    "s=100000\n",
    "skip_train=sorted(random.sample(range(1,(n_train+1)),n_train-s))\n",
    "                  \n",
    "print (\"Number of rows in the train data file:\", n_train)\n",
    "print (\"Number of rows we are going to elimiate in train data are\",len(skip_train))"
   ]
  },
  {
   "cell_type": "code",
   "execution_count": 38,
   "metadata": {},
   "outputs": [
    {
     "name": "stdout",
     "output_type": "stream",
     "text": [
      "(399999, 2)\n",
      "400000\n",
      "Number of rows in the train data file: 400000\n",
      "Number of rows we are going to elimiate in train data are 350000\n"
     ]
    }
   ],
   "source": [
    "import random\n",
    "file=pd.read_csv('test_after_eda.csv')\n",
    "filename='test_after_eda.csv'\n",
    "print(file.shape)\n",
    "n_test = sum(1 for line in open(filename))\n",
    "print(n_test)\n",
    "\n",
    "s=50000\n",
    "skip_test=sorted(random.sample(range(1,(n_test+1)),n_test-s))\n",
    "                  \n",
    "print (\"Number of rows in the train data file:\", n_test)\n",
    "print (\"Number of rows we are going to elimiate in train data are\",len(skip_test))"
   ]
  },
  {
   "cell_type": "code",
   "execution_count": 39,
   "metadata": {},
   "outputs": [
    {
     "name": "stdout",
     "output_type": "stream",
     "text": [
      "final train= (100001, 3)\n"
     ]
    },
    {
     "data": {
      "text/html": [
       "<div>\n",
       "<style scoped>\n",
       "    .dataframe tbody tr th:only-of-type {\n",
       "        vertical-align: middle;\n",
       "    }\n",
       "\n",
       "    .dataframe tbody tr th {\n",
       "        vertical-align: top;\n",
       "    }\n",
       "\n",
       "    .dataframe thead th {\n",
       "        text-align: right;\n",
       "    }\n",
       "</style>\n",
       "<table border=\"1\" class=\"dataframe\">\n",
       "  <thead>\n",
       "    <tr style=\"text-align: right;\">\n",
       "      <th></th>\n",
       "      <th>source_node</th>\n",
       "      <th>destination_node</th>\n",
       "      <th>indicator_link</th>\n",
       "    </tr>\n",
       "  </thead>\n",
       "  <tbody>\n",
       "    <tr>\n",
       "      <th>0</th>\n",
       "      <td>80115</td>\n",
       "      <td>17000</td>\n",
       "      <td>1</td>\n",
       "    </tr>\n",
       "    <tr>\n",
       "      <th>1</th>\n",
       "      <td>180153</td>\n",
       "      <td>71703</td>\n",
       "      <td>1</td>\n",
       "    </tr>\n",
       "    <tr>\n",
       "      <th>2</th>\n",
       "      <td>56264</td>\n",
       "      <td>1426025</td>\n",
       "      <td>1</td>\n",
       "    </tr>\n",
       "    <tr>\n",
       "      <th>3</th>\n",
       "      <td>39426</td>\n",
       "      <td>223809</td>\n",
       "      <td>1</td>\n",
       "    </tr>\n",
       "    <tr>\n",
       "      <th>4</th>\n",
       "      <td>144959</td>\n",
       "      <td>21127</td>\n",
       "      <td>1</td>\n",
       "    </tr>\n",
       "  </tbody>\n",
       "</table>\n",
       "</div>"
      ],
      "text/plain": [
       "   source_node  destination_node  indicator_link\n",
       "0        80115             17000               1\n",
       "1       180153             71703               1\n",
       "2        56264           1426025               1\n",
       "3        39426            223809               1\n",
       "4       144959             21127               1"
      ]
     },
     "execution_count": 39,
     "metadata": {},
     "output_type": "execute_result"
    }
   ],
   "source": [
    "df_train_final=pd.read_csv('train_after_eda.csv',skiprows=skip_train,names=['source_node','destination_node'])\n",
    "df_train_final['indicator_link']=pd.read_csv('train_y.csv',skiprows=skip_train,names=['indicator_link'])\n",
    "print('final train=',df_train_final.shape)\n",
    "df_train_final.head()"
   ]
  },
  {
   "cell_type": "code",
   "execution_count": 40,
   "metadata": {},
   "outputs": [
    {
     "name": "stdout",
     "output_type": "stream",
     "text": [
      "Our test matrix size  (50001, 3)\n"
     ]
    },
    {
     "data": {
      "text/html": [
       "<div>\n",
       "<style scoped>\n",
       "    .dataframe tbody tr th:only-of-type {\n",
       "        vertical-align: middle;\n",
       "    }\n",
       "\n",
       "    .dataframe tbody tr th {\n",
       "        vertical-align: top;\n",
       "    }\n",
       "\n",
       "    .dataframe thead th {\n",
       "        text-align: right;\n",
       "    }\n",
       "</style>\n",
       "<table border=\"1\" class=\"dataframe\">\n",
       "  <thead>\n",
       "    <tr style=\"text-align: right;\">\n",
       "      <th></th>\n",
       "      <th>source_node</th>\n",
       "      <th>destination_node</th>\n",
       "      <th>indicator_link</th>\n",
       "    </tr>\n",
       "  </thead>\n",
       "  <tbody>\n",
       "    <tr>\n",
       "      <th>0</th>\n",
       "      <td>163741</td>\n",
       "      <td>523789</td>\n",
       "      <td>1</td>\n",
       "    </tr>\n",
       "    <tr>\n",
       "      <th>1</th>\n",
       "      <td>61824</td>\n",
       "      <td>1225460</td>\n",
       "      <td>1</td>\n",
       "    </tr>\n",
       "    <tr>\n",
       "      <th>2</th>\n",
       "      <td>81799</td>\n",
       "      <td>482205</td>\n",
       "      <td>1</td>\n",
       "    </tr>\n",
       "    <tr>\n",
       "      <th>3</th>\n",
       "      <td>194440</td>\n",
       "      <td>1217024</td>\n",
       "      <td>1</td>\n",
       "    </tr>\n",
       "    <tr>\n",
       "      <th>4</th>\n",
       "      <td>53030</td>\n",
       "      <td>780678</td>\n",
       "      <td>1</td>\n",
       "    </tr>\n",
       "  </tbody>\n",
       "</table>\n",
       "</div>"
      ],
      "text/plain": [
       "   source_node  destination_node  indicator_link\n",
       "0       163741            523789               1\n",
       "1        61824           1225460               1\n",
       "2        81799            482205               1\n",
       "3       194440           1217024               1\n",
       "4        53030            780678               1"
      ]
     },
     "execution_count": 40,
     "metadata": {},
     "output_type": "execute_result"
    }
   ],
   "source": [
    "df_final_test = pd.read_csv('test_after_eda.csv', skiprows=skip_test, names=['source_node', 'destination_node'])\n",
    "df_final_test['indicator_link'] = pd.read_csv('test_y.csv', skiprows=skip_test, names=['indicator_link'])\n",
    "print(\"Our test matrix size \",df_final_test.shape)\n",
    "df_final_test.head()"
   ]
  },
  {
   "cell_type": "code",
   "execution_count": 41,
   "metadata": {},
   "outputs": [],
   "source": [
    "#jaccard index for followees\n",
    "df_train_final['jaccard_index_followees']=df_train_final.apply(lambda row:jaccard_for_followees(row['source_node'],row['destination_node']),axis=1)\n",
    "df_final_test['jaccard_index_followees']=df_final_test.apply(lambda row:jaccard_for_followees(row['source_node'],row['destination_node']),axis=1)\n",
    "#jaccard index for followers\n",
    "df_train_final['jaccard_index_followers']=df_train_final.apply(lambda row:jaccard_for_followers(row['source_node'],row['destination_node']),axis=1)\n",
    "df_final_test['jaccard_index_followers']=df_final_test.apply(lambda row:jaccard_for_followers(row['source_node'],row['destination_node']),axis=1)\n"
   ]
  },
  {
   "cell_type": "code",
   "execution_count": 42,
   "metadata": {},
   "outputs": [],
   "source": [
    "#cosine index for followees\n",
    "df_train_final['cosine_index_followees']=df_train_final.apply(lambda row:cosine_for_followees(row['source_node'],row['destination_node']),axis=1)\n",
    "df_final_test['cosine_index_followees']=df_final_test.apply(lambda row:cosine_for_followees(row['source_node'],row['destination_node']),axis=1)\n",
    "#jaccard index for followers\n",
    "df_train_final['cosine_index_followers']=df_train_final.apply(lambda row:cosine_for_followers(row['source_node'],row['destination_node']),axis=1)\n",
    "df_final_test['cosine_index_followers']=df_final_test.apply(lambda row:cosine_for_followers(row['source_node'],row['destination_node']),axis=1)\n"
   ]
  },
  {
   "cell_type": "code",
   "execution_count": 180,
   "metadata": {},
   "outputs": [
    {
     "data": {
      "text/html": [
       "<div>\n",
       "<style scoped>\n",
       "    .dataframe tbody tr th:only-of-type {\n",
       "        vertical-align: middle;\n",
       "    }\n",
       "\n",
       "    .dataframe tbody tr th {\n",
       "        vertical-align: top;\n",
       "    }\n",
       "\n",
       "    .dataframe thead th {\n",
       "        text-align: right;\n",
       "    }\n",
       "</style>\n",
       "<table border=\"1\" class=\"dataframe\">\n",
       "  <thead>\n",
       "    <tr style=\"text-align: right;\">\n",
       "      <th></th>\n",
       "      <th>source_node</th>\n",
       "      <th>destination_node</th>\n",
       "      <th>indicator_link</th>\n",
       "      <th>jaccard_index_followees</th>\n",
       "      <th>jaccard_index_followers</th>\n",
       "      <th>cosine_index_followees</th>\n",
       "      <th>cosine_index_followers</th>\n",
       "    </tr>\n",
       "  </thead>\n",
       "  <tbody>\n",
       "    <tr>\n",
       "      <th>0</th>\n",
       "      <td>80115</td>\n",
       "      <td>17000</td>\n",
       "      <td>1</td>\n",
       "      <td>0.212963</td>\n",
       "      <td>0.0</td>\n",
       "      <td>0.355746</td>\n",
       "      <td>0</td>\n",
       "    </tr>\n",
       "    <tr>\n",
       "      <th>1</th>\n",
       "      <td>158477</td>\n",
       "      <td>348014</td>\n",
       "      <td>1</td>\n",
       "      <td>0.000000</td>\n",
       "      <td>1.0</td>\n",
       "      <td>0.000000</td>\n",
       "      <td>0</td>\n",
       "    </tr>\n",
       "    <tr>\n",
       "      <th>2</th>\n",
       "      <td>44302</td>\n",
       "      <td>581933</td>\n",
       "      <td>1</td>\n",
       "      <td>0.000000</td>\n",
       "      <td>0.0</td>\n",
       "      <td>0.000000</td>\n",
       "      <td>0</td>\n",
       "    </tr>\n",
       "    <tr>\n",
       "      <th>3</th>\n",
       "      <td>160861</td>\n",
       "      <td>410901</td>\n",
       "      <td>1</td>\n",
       "      <td>0.000000</td>\n",
       "      <td>0.0</td>\n",
       "      <td>0.000000</td>\n",
       "      <td>0</td>\n",
       "    </tr>\n",
       "    <tr>\n",
       "      <th>4</th>\n",
       "      <td>20092</td>\n",
       "      <td>639479</td>\n",
       "      <td>1</td>\n",
       "      <td>0.000000</td>\n",
       "      <td>0.0</td>\n",
       "      <td>0.000000</td>\n",
       "      <td>0</td>\n",
       "    </tr>\n",
       "  </tbody>\n",
       "</table>\n",
       "</div>"
      ],
      "text/plain": [
       "   source_node  destination_node  indicator_link  jaccard_index_followees  \\\n",
       "0        80115             17000               1                 0.212963   \n",
       "1       158477            348014               1                 0.000000   \n",
       "2        44302            581933               1                 0.000000   \n",
       "3       160861            410901               1                 0.000000   \n",
       "4        20092            639479               1                 0.000000   \n",
       "\n",
       "   jaccard_index_followers  cosine_index_followees  cosine_index_followers  \n",
       "0                      0.0                0.355746                       0  \n",
       "1                      1.0                0.000000                       0  \n",
       "2                      0.0                0.000000                       0  \n",
       "3                      0.0                0.000000                       0  \n",
       "4                      0.0                0.000000                       0  "
      ]
     },
     "execution_count": 180,
     "metadata": {},
     "output_type": "execute_result"
    }
   ],
   "source": [
    "df_train_final.head()"
   ]
  },
  {
   "cell_type": "code",
   "execution_count": null,
   "metadata": {},
   "outputs": [],
   "source": [
    "#adar index"
   ]
  },
  {
   "cell_type": "code",
   "execution_count": 44,
   "metadata": {},
   "outputs": [],
   "source": [
    "#cosine index for followees\n",
    "df_train_final['adar_index']=df_train_final.apply(lambda row:calc_adar_in(row['source_node'],row['destination_node']),axis=1)\n",
    "df_final_test['adar_index']=df_final_test.apply(lambda row:calc_adar_in(row['source_node'],row['destination_node']),axis=1)\n",
    "#is following back \n",
    "df_train_final['follows_back']=df_train_final.apply(lambda row:follows_back(row['source_node'],row['destination_node']),axis=1)\n",
    "df_final_test['follows_back']=df_final_test.apply(lambda row:follows_back(row['source_node'],row['destination_node']),axis=1)\n",
    "#belongs_to_same_wcc\n",
    "df_train_final['belongs_to_same_wcc']=df_train_final.apply(lambda row:belongs_to_same_wcc(row['source_node'],row['destination_node']),axis=1)\n",
    "df_final_test['belongs_to_same_wcc']=df_final_test.apply(lambda row:belongs_to_same_wcc(row['source_node'],row['destination_node']),axis=1)"
   ]
  },
  {
   "cell_type": "code",
   "execution_count": null,
   "metadata": {},
   "outputs": [],
   "source": [
    "df_train_final.head()"
   ]
  },
  {
   "cell_type": "code",
   "execution_count": null,
   "metadata": {},
   "outputs": [],
   "source": [
    "compute_shortest_path_length"
   ]
  },
  {
   "cell_type": "code",
   "execution_count": 45,
   "metadata": {},
   "outputs": [],
   "source": [
    "#compute_shortest_path_length\n",
    "df_train_final['shortest_path_length']=df_train_final.apply(lambda row:compute_shortest_path_length(row['source_node'],row['destination_node']),axis=1)\n",
    "df_final_test['shortest_path_length']=df_final_test.apply(lambda row:compute_shortest_path_length(row['source_node'],row['destination_node']),axis=1)\n"
   ]
  },
  {
   "cell_type": "code",
   "execution_count": 46,
   "metadata": {},
   "outputs": [],
   "source": [
    "def compute_features_stage1(df_final):\n",
    "    num_of_followers_s=[]\n",
    "    num_of_followees_s=[]\n",
    "    num_of_followers_d=[]\n",
    "    num_of_followees_d=[]\n",
    "    inter_followers=[]\n",
    "    inter_followees=[]\n",
    "    \n",
    "    for i,row in df_final.iterrows():\n",
    "        try:\n",
    "            s1=set(train_graph.predecessors(row['source_node']))\n",
    "            s2=set(train_graph.successors(row['source_node']))\n",
    "        except:\n",
    "            s1=set()\n",
    "            s2=set()\n",
    "        try:\n",
    "            s3=set(train_graph.predecessors(row['destination_node']))\n",
    "            s4=set(train_graph.successors(row['distination_node']))\n",
    "        except:\n",
    "            s3=set()\n",
    "            s4=set()\n",
    "        num_of_followers_s.append(len(s1))\n",
    "        num_of_followees_s.append(len(s2))\n",
    "        \n",
    "        num_of_followers_d.append(len(s3))\n",
    "        num_of_followees_d.append(len(s4))\n",
    "        \n",
    "        inter_followers.append(len(s1.intersection(s3)))\n",
    "        inter_followees.append(len(s2.intersection(s4)))\n",
    "        \n",
    "    return num_of_followers_s, num_of_followees_s, num_of_followers_d, num_of_followees_d, inter_followers, inter_followees"
   ]
  },
  {
   "cell_type": "code",
   "execution_count": 47,
   "metadata": {},
   "outputs": [],
   "source": [
    "#adding the above features\n",
    "df_train_final['num_of_followers_s'],df_train_final['num_of_followees_s'],\\\n",
    "df_train_final['num_of_followers_d'],df_train_final['num_of_followees_d'],\\\n",
    "df_train_final['inter_followers'],df_train_final['inter_followees'] = compute_features_stage1(df_train_final)\n",
    "\n",
    "df_final_test['num_of_followers_s'],df_final_test['num_of_followees_s'],\\\n",
    "df_final_test['num_of_followers_d'],df_final_test['num_of_followees_d'],\\\n",
    "df_final_test['inter_followers'],df_final_test['inter_followees'] = compute_features_stage1(df_final_test)"
   ]
  },
  {
   "cell_type": "code",
   "execution_count": 48,
   "metadata": {},
   "outputs": [
    {
     "data": {
      "text/plain": [
       "(100001, 17)"
      ]
     },
     "execution_count": 48,
     "metadata": {},
     "output_type": "execute_result"
    }
   ],
   "source": [
    "df_train_final.shape"
   ]
  },
  {
   "cell_type": "code",
   "execution_count": null,
   "metadata": {},
   "outputs": [],
   "source": [
    "df_final_test.shape"
   ]
  },
  {
   "cell_type": "markdown",
   "metadata": {},
   "source": [
    "# Adding weight features\n",
    "   carz centrality"
   ]
  },
  {
   "cell_type": "code",
   "execution_count": 49,
   "metadata": {},
   "outputs": [
    {
     "name": "stderr",
     "output_type": "stream",
     "text": [
      "100%|██████████████████████████████████████████████████████████████████████| 603211/603211 [00:04<00:00, 132177.55it/s]\n"
     ]
    }
   ],
   "source": [
    "weight_in ={}\n",
    "weight_out={}\n",
    "\n",
    "for i in tqdm(train_graph.nodes()):\n",
    "    s1=set(train_graph.predecessors(i))\n",
    "    x=1/(math.sqrt(1+len(s1)))\n",
    "    weight_in[i]=x\n",
    "    s2=set(train_graph.successors(i))\n",
    "    y=1/(math.sqrt(1+len(s2)))\n",
    "    weight_out[i]=y\n",
    "    \n",
    "mean_weight_in=np.mean(list(weight_in.values()))\n",
    "mean_weight_out=np.mean(list(weight_out.values()))"
   ]
  },
  {
   "cell_type": "code",
   "execution_count": null,
   "metadata": {},
   "outputs": [],
   "source": [
    "print('mean_weight_in:',mean_weight_in)\n",
    "print('mean_weight_out:',mean_weight_out)"
   ]
  },
  {
   "cell_type": "markdown",
   "metadata": {},
   "source": [
    "# applying weighted features to train and test data "
   ]
  },
  {
   "cell_type": "code",
   "execution_count": 50,
   "metadata": {},
   "outputs": [],
   "source": [
    "df_train_final['weight_in']=df_train_final.destination_node.apply(lambda x:weight_in.get(x,mean_weight_in))\n",
    "df_train_final['weight_out']=df_train_final.source_node.apply(lambda x:weight_out.get(x,mean_weight_out))\n",
    "\n",
    "df_final_test['weight_in']=df_final_test.destination_node.apply(lambda x:weight_in.get(x,mean_weight_in))\n",
    "df_final_test['weight_out']=df_final_test.source_node.apply(lambda x:weight_out.get(x,mean_weight_out))\n",
    "\n",
    "df_train_final['weight_f1']=df_train_final.weight_in+df_train_final.weight_out\n",
    "df_train_final['weight_f2']=df_train_final.weight_in*df_train_final.weight_out\n",
    "df_train_final['weight_f3']=(1*df_train_final.weight_in)+(2*df_train_final.weight_out)\n",
    "df_train_final['weight_f4']=(2*df_train_final.weight_in)+(df_train_final.weight_out)\n",
    "\n",
    "df_final_test['weight_f1']=df_final_test.weight_in+df_final_test.weight_out\n",
    "df_final_test['weight_f2']=df_final_test.weight_in*df_final_test.weight_out\n",
    "df_final_test['weight_f3']=(1*df_final_test.weight_in)+(2*df_final_test.weight_out)\n",
    "df_final_test['weight_f4']=(2*df_final_test.weight_in)+(df_final_test.weight_out)\n",
    "\n"
   ]
  },
  {
   "cell_type": "markdown",
   "metadata": {},
   "source": [
    "# applying page rank, carz "
   ]
  },
  {
   "cell_type": "code",
   "execution_count": 51,
   "metadata": {},
   "outputs": [],
   "source": [
    "# pagerank for train\n",
    "df_train_final['page_rank_s']=df_train_final.source_node.apply(lambda x:pr.get(x,mean_pr))\n",
    "df_train_final['page_rank_d']=df_train_final.destination_node.apply(lambda x:pr.get(x,mean_pr))\n",
    "#pagerank for test\n",
    "df_final_test['page_rank_s']=df_final_test.source_node.apply(lambda x:pr.get(x,mean_pr))\n",
    "df_final_test['page_rank_d']=df_final_test.destination_node.apply(lambda x:pr.get(x,mean_pr))\n",
    "\n",
    "\n",
    "#karz centrality for train\n",
    "df_train_final['karz_s']=df_train_final.source_node.apply(lambda x:katz.get(x,mean_karz))\n",
    "df_train_final['karz_d']=df_train_final.destination_node.apply(lambda x:katz.get(x,mean_karz))\n",
    "#karz centrality for train\n",
    "df_final_test['karz_s']=df_final_test.source_node.apply(lambda x:katz.get(x,mean_karz))\n",
    "df_final_test['karz_d']=df_final_test.destination_node.apply(lambda x:katz.get(x,mean_karz))\n",
    "\n",
    "\n",
    "#hits score hubs values for train\n",
    "df_train_final['hubs_s']=df_train_final.source_node.apply(lambda x:hits[0].get(x,0))\n",
    "df_train_final['hubs_d']=df_train_final.destination_node.apply(lambda x:hits[0].get(x,0))\n",
    "#hits score for test\n",
    "df_final_test['hubs_s']=df_final_test.source_node.apply(lambda x:hits[0].get(x,0))\n",
    "df_final_test['hubs_d']=df_final_test.destination_node.apply(lambda x:hits[0].get(x,0))\n",
    "\n",
    "\n",
    "#hits score for train\n",
    "df_train_final['authorities_s']=df_train_final.source_node.apply(lambda x:hits[1].get(x,0))\n",
    "df_train_final['authorities_d']=df_train_final.destination_node.apply(lambda x:hits[1].get(x,0))\n",
    "#hits score for test\n",
    "df_final_test['authorities_s']=df_final_test.source_node.apply(lambda x:hits[1].get(x,0))\n",
    "df_final_test['authorities_d']=df_final_test.destination_node.apply(lambda x:hits[1].get(x,0))"
   ]
  },
  {
   "cell_type": "markdown",
   "metadata": {},
   "source": [
    "# svd features"
   ]
  },
  {
   "cell_type": "code",
   "execution_count": 84,
   "metadata": {},
   "outputs": [],
   "source": [
    "def svd(x, S):\n",
    "    try:\n",
    "        z=sadj_dict[x]\n",
    "        return S[z]\n",
    "    except:\n",
    "        return [0,0,0,0,0,0]"
   ]
  },
  {
   "cell_type": "code",
   "execution_count": 85,
   "metadata": {},
   "outputs": [],
   "source": [
    "sadj_col=sorted(train_graph.nodes())\n",
    "sadj_dict={val:idx for idx,val in enumerate(sadj_col)}"
   ]
  },
  {
   "cell_type": "code",
   "execution_count": 86,
   "metadata": {},
   "outputs": [
    {
     "name": "stdout",
     "output_type": "stream",
     "text": [
      "Wall time: 11.1 s\n"
     ]
    }
   ],
   "source": [
    "%%time\n",
    "Adj = nx.adjacency_matrix(train_graph,nodelist=sorted(train_graph.nodes())).asfptype()\n",
    "Adj.shape"
   ]
  },
  {
   "cell_type": "code",
   "execution_count": 88,
   "metadata": {},
   "outputs": [
    {
     "name": "stdout",
     "output_type": "stream",
     "text": [
      "Adjacency matrix Shape (603211, 603211)\n",
      "U Shape (603211, 6)\n",
      "V Shape (6, 603211)\n",
      "s Shape (6,)\n"
     ]
    }
   ],
   "source": [
    "U,s,V= svds(Adj,k=6)\n",
    "print('Adjacency matrix Shape',Adj.shape)\n",
    "print('U Shape',U.shape)\n",
    "print('V Shape',V.shape)\n",
    "print('s Shape',s.shape)"
   ]
  },
  {
   "cell_type": "code",
   "execution_count": 56,
   "metadata": {},
   "outputs": [],
   "source": [
    "    df_train_final[['svd_u_s_1', 'svd_u_s_2','svd_u_s_3', 'svd_u_s_4', 'svd_u_s_5', 'svd_u_s_6']] = \\\n",
    "    df_train_final.source_node.apply(lambda x: svd(x, U)).apply(pd.Series)\n",
    "    \n",
    "    df_train_final[['svd_u_d_1', 'svd_u_d_2', 'svd_u_d_3', 'svd_u_d_4', 'svd_u_d_5','svd_u_d_6']] = \\\n",
    "    df_train_final.destination_node.apply(lambda x: svd(x, U)).apply(pd.Series)\n",
    "    #===================================================================================================\n",
    "    \n",
    "    df_train_final[['svd_v_s_1','svd_v_s_2', 'svd_v_s_3', 'svd_v_s_4', 'svd_v_s_5', 'svd_v_s_6',]] = \\\n",
    "    df_train_final.source_node.apply(lambda x: svd(x, V.T)).apply(pd.Series)\n",
    "\n",
    "    df_train_final[['svd_v_d_1', 'svd_v_d_2', 'svd_v_d_3', 'svd_v_d_4', 'svd_v_d_5','svd_v_d_6']] = \\\n",
    "    df_train_final.destination_node.apply(lambda x: svd(x, V.T)).apply(pd.Series)\n",
    "    #===================================================================================================\n",
    "    \n",
    "    df_final_test[['svd_u_s_1', 'svd_u_s_2','svd_u_s_3', 'svd_u_s_4', 'svd_u_s_5', 'svd_u_s_6']] = \\\n",
    "    df_final_test.source_node.apply(lambda x: svd(x, U)).apply(pd.Series)\n",
    "    \n",
    "    df_final_test[['svd_u_d_1', 'svd_u_d_2', 'svd_u_d_3', 'svd_u_d_4', 'svd_u_d_5','svd_u_d_6']] = \\\n",
    "    df_final_test.destination_node.apply(lambda x: svd(x, U)).apply(pd.Series)\n",
    "\n",
    "    #===================================================================================================\n",
    "    \n",
    "    df_final_test[['svd_v_s_1','svd_v_s_2', 'svd_v_s_3', 'svd_v_s_4', 'svd_v_s_5', 'svd_v_s_6',]] = \\\n",
    "    df_final_test.source_node.apply(lambda x: svd(x, V.T)).apply(pd.Series)\n",
    "\n",
    "    df_final_test[['svd_v_d_1', 'svd_v_d_2', 'svd_v_d_3', 'svd_v_d_4', 'svd_v_d_5','svd_v_d_6']] = \\\n",
    "    df_final_test.destination_node.apply(lambda x: svd(x, V.T)).apply(pd.Series)\n",
    "    #==================================================================================================="
   ]
  },
  {
   "cell_type": "markdown",
   "metadata": {},
   "source": [
    "# applying svd dot"
   ]
  },
  {
   "cell_type": "code",
   "execution_count": 94,
   "metadata": {},
   "outputs": [
    {
     "name": "stdout",
     "output_type": "stream",
     "text": [
      "Wall time: 45min 47s\n"
     ]
    }
   ],
   "source": [
    "%%time\n",
    "df_train_final[['svd_dot_1', 'svd_dot_2','svd_dot_3', 'svd_dot_4', 'svd_dot_5', 'svd_dot_6']]= \\\n",
    "df_train_final.source_node.apply(lambda x: svd(x, np.dot(V,U))).apply(pd.Series)\n",
    "df_train_final[['svd_dot_1', 'svd_dot_2','svd_dot_3', 'svd_dot_4', 'svd_dot_5', 'svd_dot_6']]= \\\n",
    "df_train_final.destination_node.apply(lambda x: svd(x, np.dot(V,U))).apply(pd.Series)\n",
    "\n",
    "df_final_test[['svd_dot_1', 'svd_dot_2','svd_dot_3', 'svd_dot_4', 'svd_dot_5', 'svd_dot_6']]= \\\n",
    "df_final_test.source_node.apply(lambda x: svd(x, np.dot(V,U))).apply(pd.Series)\n",
    "df_final_test[['svd_dot_1', 'svd_dot_2','svd_dot_3', 'svd_dot_4', 'svd_dot_5', 'svd_dot_6']]= \\\n",
    "df_final_test.destination_node.apply(lambda x: svd(x, np.dot(V,U))).apply(pd.Series)"
   ]
  },
  {
   "cell_type": "code",
   "execution_count": 95,
   "metadata": {},
   "outputs": [
    {
     "name": "stdout",
     "output_type": "stream",
     "text": [
      "Wall time: 20.1 s\n"
     ]
    }
   ],
   "source": [
    "%%time\n",
    "hdf=HDFStore('stored_data.h5')\n",
    "hdf.put('train_df',df_train_final,format='table',data_columns=True)\n",
    "hdf.put('test_df',df_final_test,format='table',data_columns=True)\n",
    "hdf.close()"
   ]
  },
  {
   "cell_type": "markdown",
   "metadata": {},
   "source": [
    "# Preferential attachment"
   ]
  },
  {
   "cell_type": "code",
   "execution_count": 23,
   "metadata": {},
   "outputs": [
    {
     "name": "stdout",
     "output_type": "stream",
     "text": [
      "Name: \n",
      "Type: DiGraph\n",
      "Number of nodes: 603211\n",
      "Number of edges: 800000\n",
      "Average in degree:   1.3262\n",
      "Average out degree:   1.3262\n"
     ]
    }
   ],
   "source": [
    "if os.path.isfile('x_train_pos_after_eda.csv'):\n",
    "    train_graph=nx.read_edgelist('x_train_pos_after_eda.csv',delimiter=',',create_using=nx.DiGraph(),nodetype=int)\n",
    "    print(nx.info(train_graph))\n",
    "else:\n",
    "    print('rerun the code')"
   ]
  },
  {
   "cell_type": "code",
   "execution_count": 28,
   "metadata": {},
   "outputs": [],
   "source": [
    "def prefer_attach_followers(a,b):\n",
    "    try:\n",
    "        x=(len(set(train_graph.successors(a)))*len(set(train_graph.successors(b))))\n",
    "        \n",
    "        return x\n",
    "    except:\n",
    "        return 0"
   ]
  },
  {
   "cell_type": "code",
   "execution_count": 29,
   "metadata": {},
   "outputs": [],
   "source": [
    "def prefer_attach_followees(a,b):\n",
    "    try:\n",
    "        y=(len(set(train_graph.predecessors(a)))*len(set(train_graph.predecessors(b))))\n",
    "        \n",
    "        return y\n",
    "    except:\n",
    "        return 0"
   ]
  },
  {
   "cell_type": "markdown",
   "metadata": {},
   "source": [
    "# applying preferential attachment"
   ]
  },
  {
   "cell_type": "code",
   "execution_count": 96,
   "metadata": {},
   "outputs": [],
   "source": [
    "df_train_final=read_hdf('stored_data.h5','train_df',mode='r+')\n",
    "df_final_test=read_hdf('stored_data.h5','test_df',mode='r+')"
   ]
  },
  {
   "cell_type": "code",
   "execution_count": 97,
   "metadata": {},
   "outputs": [
    {
     "name": "stdout",
     "output_type": "stream",
     "text": [
      "Wall time: 25.8 s\n"
     ]
    }
   ],
   "source": [
    "%%time\n",
    "df_train_final['prefer_attach_followers']=df_train_final.apply(lambda row:\n",
    "                                                           prefer_attach_followers(row['source_node'],row['destination_node']),axis=1)\n",
    "df_train_final['prefer_attach_followees']=df_train_final.apply(lambda row:\n",
    "                                                           prefer_attach_followees(row['source_node'],row['destination_node']),axis=1)\n",
    "\n",
    "df_final_test['prefer_attach_followers']=df_final_test.apply(lambda row:\n",
    "                                                           prefer_attach_followers(row['source_node'],row['destination_node']),axis=1)\n",
    "df_final_test['prefer_attach_followees']=df_final_test.apply(lambda row:\n",
    "                                                           prefer_attach_followees(row['source_node'],row['destination_node']),axis=1)\n",
    "\n",
    "\n",
    "\n",
    "hdf=HDFStore('stored_data1.h5')\n",
    "hdf.put('train_df',df_train_final,format='table',data_columns=True)\n",
    "hdf.put('test_df',df_final_test,format='table',data_columns=True)\n",
    "hdf.close()"
   ]
  },
  {
   "cell_type": "code",
   "execution_count": null,
   "metadata": {},
   "outputs": [],
   "source": []
  },
  {
   "cell_type": "code",
   "execution_count": null,
   "metadata": {},
   "outputs": [],
   "source": []
  },
  {
   "cell_type": "code",
   "execution_count": null,
   "metadata": {},
   "outputs": [],
   "source": []
  },
  {
   "cell_type": "markdown",
   "metadata": {},
   "source": [
    "# modelling"
   ]
  },
  {
   "cell_type": "code",
   "execution_count": 98,
   "metadata": {},
   "outputs": [],
   "source": [
    "from sklearn.ensemble import RandomForestClassifier\n",
    "from sklearn.metrics import f1_score"
   ]
  },
  {
   "cell_type": "code",
   "execution_count": 99,
   "metadata": {},
   "outputs": [],
   "source": [
    "df_train_final=read_hdf('stored_data1.h5','train_df',mode='r+')\n",
    "df_final_test=read_hdf('stored_data1.h5','test_df',mode='r+')"
   ]
  },
  {
   "cell_type": "code",
   "execution_count": 100,
   "metadata": {},
   "outputs": [
    {
     "data": {
      "text/plain": [
       "(100001, 63)"
      ]
     },
     "execution_count": 100,
     "metadata": {},
     "output_type": "execute_result"
    }
   ],
   "source": [
    "df_train_final.shape"
   ]
  },
  {
   "cell_type": "code",
   "execution_count": 101,
   "metadata": {},
   "outputs": [
    {
     "data": {
      "text/plain": [
       "(50001, 63)"
      ]
     },
     "execution_count": 101,
     "metadata": {},
     "output_type": "execute_result"
    }
   ],
   "source": [
    "df_final_test.shape"
   ]
  },
  {
   "cell_type": "code",
   "execution_count": 102,
   "metadata": {},
   "outputs": [
    {
     "data": {
      "text/html": [
       "<div>\n",
       "<style scoped>\n",
       "    .dataframe tbody tr th:only-of-type {\n",
       "        vertical-align: middle;\n",
       "    }\n",
       "\n",
       "    .dataframe tbody tr th {\n",
       "        vertical-align: top;\n",
       "    }\n",
       "\n",
       "    .dataframe thead th {\n",
       "        text-align: right;\n",
       "    }\n",
       "</style>\n",
       "<table border=\"1\" class=\"dataframe\">\n",
       "  <thead>\n",
       "    <tr style=\"text-align: right;\">\n",
       "      <th></th>\n",
       "      <th>source_node</th>\n",
       "      <th>destination_node</th>\n",
       "      <th>indicator_link</th>\n",
       "      <th>jaccard_index_followees</th>\n",
       "      <th>jaccard_index_followers</th>\n",
       "      <th>cosine_index_followees</th>\n",
       "      <th>cosine_index_followers</th>\n",
       "      <th>adar_index</th>\n",
       "      <th>follows_back</th>\n",
       "      <th>belongs_to_same_wcc</th>\n",
       "      <th>...</th>\n",
       "      <th>svd_v_d_5</th>\n",
       "      <th>svd_v_d_6</th>\n",
       "      <th>prefer_attach_followers</th>\n",
       "      <th>prefer_attach_followees</th>\n",
       "      <th>svd_dot_1</th>\n",
       "      <th>svd_dot_2</th>\n",
       "      <th>svd_dot_3</th>\n",
       "      <th>svd_dot_4</th>\n",
       "      <th>svd_dot_5</th>\n",
       "      <th>svd_dot_6</th>\n",
       "    </tr>\n",
       "  </thead>\n",
       "  <tbody>\n",
       "    <tr>\n",
       "      <th>0</th>\n",
       "      <td>80115</td>\n",
       "      <td>17000</td>\n",
       "      <td>1</td>\n",
       "      <td>0.211009</td>\n",
       "      <td>0.0</td>\n",
       "      <td>0.353428</td>\n",
       "      <td>0</td>\n",
       "      <td>25.914995</td>\n",
       "      <td>0</td>\n",
       "      <td>1</td>\n",
       "      <td>...</td>\n",
       "      <td>-7.049940e-19</td>\n",
       "      <td>-3.612837e-07</td>\n",
       "      <td>4235</td>\n",
       "      <td>0</td>\n",
       "      <td>0</td>\n",
       "      <td>0</td>\n",
       "      <td>0</td>\n",
       "      <td>0</td>\n",
       "      <td>0</td>\n",
       "      <td>0</td>\n",
       "    </tr>\n",
       "    <tr>\n",
       "      <th>1</th>\n",
       "      <td>180153</td>\n",
       "      <td>71703</td>\n",
       "      <td>1</td>\n",
       "      <td>0.050000</td>\n",
       "      <td>0.0</td>\n",
       "      <td>0.136083</td>\n",
       "      <td>0</td>\n",
       "      <td>1.660964</td>\n",
       "      <td>1</td>\n",
       "      <td>1</td>\n",
       "      <td>...</td>\n",
       "      <td>1.401268e-19</td>\n",
       "      <td>-1.125244e-20</td>\n",
       "      <td>54</td>\n",
       "      <td>8</td>\n",
       "      <td>0</td>\n",
       "      <td>0</td>\n",
       "      <td>0</td>\n",
       "      <td>0</td>\n",
       "      <td>0</td>\n",
       "      <td>0</td>\n",
       "    </tr>\n",
       "    <tr>\n",
       "      <th>2</th>\n",
       "      <td>56264</td>\n",
       "      <td>1426025</td>\n",
       "      <td>1</td>\n",
       "      <td>0.000000</td>\n",
       "      <td>0.0</td>\n",
       "      <td>0.000000</td>\n",
       "      <td>0</td>\n",
       "      <td>0.000000</td>\n",
       "      <td>0</td>\n",
       "      <td>0</td>\n",
       "      <td>...</td>\n",
       "      <td>0.000000e+00</td>\n",
       "      <td>0.000000e+00</td>\n",
       "      <td>0</td>\n",
       "      <td>0</td>\n",
       "      <td>0</td>\n",
       "      <td>0</td>\n",
       "      <td>0</td>\n",
       "      <td>0</td>\n",
       "      <td>0</td>\n",
       "      <td>0</td>\n",
       "    </tr>\n",
       "    <tr>\n",
       "      <th>3</th>\n",
       "      <td>39426</td>\n",
       "      <td>223809</td>\n",
       "      <td>1</td>\n",
       "      <td>0.000000</td>\n",
       "      <td>0.0</td>\n",
       "      <td>0.000000</td>\n",
       "      <td>0</td>\n",
       "      <td>0.000000</td>\n",
       "      <td>0</td>\n",
       "      <td>0</td>\n",
       "      <td>...</td>\n",
       "      <td>0.000000e+00</td>\n",
       "      <td>0.000000e+00</td>\n",
       "      <td>0</td>\n",
       "      <td>0</td>\n",
       "      <td>0</td>\n",
       "      <td>0</td>\n",
       "      <td>0</td>\n",
       "      <td>0</td>\n",
       "      <td>0</td>\n",
       "      <td>0</td>\n",
       "    </tr>\n",
       "    <tr>\n",
       "      <th>4</th>\n",
       "      <td>144959</td>\n",
       "      <td>21127</td>\n",
       "      <td>1</td>\n",
       "      <td>0.000000</td>\n",
       "      <td>0.0</td>\n",
       "      <td>0.000000</td>\n",
       "      <td>0</td>\n",
       "      <td>0.000000</td>\n",
       "      <td>1</td>\n",
       "      <td>1</td>\n",
       "      <td>...</td>\n",
       "      <td>1.180136e-19</td>\n",
       "      <td>-7.593920e-21</td>\n",
       "      <td>18</td>\n",
       "      <td>3</td>\n",
       "      <td>0</td>\n",
       "      <td>0</td>\n",
       "      <td>0</td>\n",
       "      <td>0</td>\n",
       "      <td>0</td>\n",
       "      <td>0</td>\n",
       "    </tr>\n",
       "  </tbody>\n",
       "</table>\n",
       "<p>5 rows × 63 columns</p>\n",
       "</div>"
      ],
      "text/plain": [
       "   source_node  destination_node  indicator_link  jaccard_index_followees  \\\n",
       "0        80115             17000               1                 0.211009   \n",
       "1       180153             71703               1                 0.050000   \n",
       "2        56264           1426025               1                 0.000000   \n",
       "3        39426            223809               1                 0.000000   \n",
       "4       144959             21127               1                 0.000000   \n",
       "\n",
       "   jaccard_index_followers  cosine_index_followees  cosine_index_followers  \\\n",
       "0                      0.0                0.353428                       0   \n",
       "1                      0.0                0.136083                       0   \n",
       "2                      0.0                0.000000                       0   \n",
       "3                      0.0                0.000000                       0   \n",
       "4                      0.0                0.000000                       0   \n",
       "\n",
       "   adar_index  follows_back  belongs_to_same_wcc  ...     svd_v_d_5  \\\n",
       "0   25.914995             0                    1  ... -7.049940e-19   \n",
       "1    1.660964             1                    1  ...  1.401268e-19   \n",
       "2    0.000000             0                    0  ...  0.000000e+00   \n",
       "3    0.000000             0                    0  ...  0.000000e+00   \n",
       "4    0.000000             1                    1  ...  1.180136e-19   \n",
       "\n",
       "      svd_v_d_6  prefer_attach_followers  prefer_attach_followees  svd_dot_1  \\\n",
       "0 -3.612837e-07                     4235                        0          0   \n",
       "1 -1.125244e-20                       54                        8          0   \n",
       "2  0.000000e+00                        0                        0          0   \n",
       "3  0.000000e+00                        0                        0          0   \n",
       "4 -7.593920e-21                       18                        3          0   \n",
       "\n",
       "   svd_dot_2  svd_dot_3  svd_dot_4  svd_dot_5  svd_dot_6  \n",
       "0          0          0          0          0          0  \n",
       "1          0          0          0          0          0  \n",
       "2          0          0          0          0          0  \n",
       "3          0          0          0          0          0  \n",
       "4          0          0          0          0          0  \n",
       "\n",
       "[5 rows x 63 columns]"
      ]
     },
     "execution_count": 102,
     "metadata": {},
     "output_type": "execute_result"
    }
   ],
   "source": [
    "df_train_final.head()"
   ]
  },
  {
   "cell_type": "code",
   "execution_count": 103,
   "metadata": {},
   "outputs": [
    {
     "name": "stdout",
     "output_type": "stream",
     "text": [
      "Index(['source_node', 'destination_node', 'indicator_link',\n",
      "       'jaccard_index_followees', 'jaccard_index_followers',\n",
      "       'cosine_index_followees', 'cosine_index_followers', 'adar_index',\n",
      "       'follows_back', 'belongs_to_same_wcc', 'shortest_path_length',\n",
      "       'num_of_followers_s', 'num_of_followees_s', 'num_of_followers_d',\n",
      "       'num_of_followees_d', 'inter_followers', 'inter_followees', 'weight_in',\n",
      "       'weight_out', 'weight_f1', 'weight_f2', 'weight_f3', 'weight_f4',\n",
      "       'page_rank_s', 'page_rank_d', 'karz_s', 'karz_d', 'hubs_s', 'hubs_d',\n",
      "       'authorities_s', 'authorities_d', 'svd_u_s_1', 'svd_u_s_2', 'svd_u_s_3',\n",
      "       'svd_u_s_4', 'svd_u_s_5', 'svd_u_s_6', 'svd_u_d_1', 'svd_u_d_2',\n",
      "       'svd_u_d_3', 'svd_u_d_4', 'svd_u_d_5', 'svd_u_d_6', 'svd_v_s_1',\n",
      "       'svd_v_s_2', 'svd_v_s_3', 'svd_v_s_4', 'svd_v_s_5', 'svd_v_s_6',\n",
      "       'svd_v_d_1', 'svd_v_d_2', 'svd_v_d_3', 'svd_v_d_4', 'svd_v_d_5',\n",
      "       'svd_v_d_6', 'prefer_attach_followers', 'prefer_attach_followees',\n",
      "       'svd_dot_1', 'svd_dot_2', 'svd_dot_3', 'svd_dot_4', 'svd_dot_5',\n",
      "       'svd_dot_6'],\n",
      "      dtype='object')\n"
     ]
    }
   ],
   "source": [
    "print(df_train_final.columns)"
   ]
  },
  {
   "cell_type": "code",
   "execution_count": 104,
   "metadata": {},
   "outputs": [],
   "source": [
    "y_train=df_train_final.indicator_link\n",
    "y_test=df_final_test.indicator_link"
   ]
  },
  {
   "cell_type": "code",
   "execution_count": 105,
   "metadata": {},
   "outputs": [],
   "source": [
    "df_train_final.drop(['indicator_link'],axis=1,inplace=True)\n",
    "df_final_test.drop(['indicator_link'],axis=1,inplace=True)"
   ]
  },
  {
   "cell_type": "code",
   "execution_count": 106,
   "metadata": {},
   "outputs": [
    {
     "data": {
      "text/html": [
       "<div>\n",
       "<style scoped>\n",
       "    .dataframe tbody tr th:only-of-type {\n",
       "        vertical-align: middle;\n",
       "    }\n",
       "\n",
       "    .dataframe tbody tr th {\n",
       "        vertical-align: top;\n",
       "    }\n",
       "\n",
       "    .dataframe thead th {\n",
       "        text-align: right;\n",
       "    }\n",
       "</style>\n",
       "<table border=\"1\" class=\"dataframe\">\n",
       "  <thead>\n",
       "    <tr style=\"text-align: right;\">\n",
       "      <th></th>\n",
       "      <th>source_node</th>\n",
       "      <th>destination_node</th>\n",
       "      <th>jaccard_index_followees</th>\n",
       "      <th>jaccard_index_followers</th>\n",
       "      <th>cosine_index_followees</th>\n",
       "      <th>cosine_index_followers</th>\n",
       "      <th>adar_index</th>\n",
       "      <th>follows_back</th>\n",
       "      <th>belongs_to_same_wcc</th>\n",
       "      <th>shortest_path_length</th>\n",
       "      <th>...</th>\n",
       "      <th>svd_v_d_5</th>\n",
       "      <th>svd_v_d_6</th>\n",
       "      <th>prefer_attach_followers</th>\n",
       "      <th>prefer_attach_followees</th>\n",
       "      <th>svd_dot_1</th>\n",
       "      <th>svd_dot_2</th>\n",
       "      <th>svd_dot_3</th>\n",
       "      <th>svd_dot_4</th>\n",
       "      <th>svd_dot_5</th>\n",
       "      <th>svd_dot_6</th>\n",
       "    </tr>\n",
       "  </thead>\n",
       "  <tbody>\n",
       "    <tr>\n",
       "      <th>0</th>\n",
       "      <td>80115</td>\n",
       "      <td>17000</td>\n",
       "      <td>0.211009</td>\n",
       "      <td>0.0</td>\n",
       "      <td>0.353428</td>\n",
       "      <td>0</td>\n",
       "      <td>25.914995</td>\n",
       "      <td>0</td>\n",
       "      <td>1</td>\n",
       "      <td>2</td>\n",
       "      <td>...</td>\n",
       "      <td>-7.049940e-19</td>\n",
       "      <td>-3.612837e-07</td>\n",
       "      <td>4235</td>\n",
       "      <td>0</td>\n",
       "      <td>0</td>\n",
       "      <td>0</td>\n",
       "      <td>0</td>\n",
       "      <td>0</td>\n",
       "      <td>0</td>\n",
       "      <td>0</td>\n",
       "    </tr>\n",
       "    <tr>\n",
       "      <th>1</th>\n",
       "      <td>180153</td>\n",
       "      <td>71703</td>\n",
       "      <td>0.050000</td>\n",
       "      <td>0.0</td>\n",
       "      <td>0.136083</td>\n",
       "      <td>0</td>\n",
       "      <td>1.660964</td>\n",
       "      <td>1</td>\n",
       "      <td>1</td>\n",
       "      <td>-1</td>\n",
       "      <td>...</td>\n",
       "      <td>1.401268e-19</td>\n",
       "      <td>-1.125244e-20</td>\n",
       "      <td>54</td>\n",
       "      <td>8</td>\n",
       "      <td>0</td>\n",
       "      <td>0</td>\n",
       "      <td>0</td>\n",
       "      <td>0</td>\n",
       "      <td>0</td>\n",
       "      <td>0</td>\n",
       "    </tr>\n",
       "    <tr>\n",
       "      <th>2</th>\n",
       "      <td>56264</td>\n",
       "      <td>1426025</td>\n",
       "      <td>0.000000</td>\n",
       "      <td>0.0</td>\n",
       "      <td>0.000000</td>\n",
       "      <td>0</td>\n",
       "      <td>0.000000</td>\n",
       "      <td>0</td>\n",
       "      <td>0</td>\n",
       "      <td>-1</td>\n",
       "      <td>...</td>\n",
       "      <td>0.000000e+00</td>\n",
       "      <td>0.000000e+00</td>\n",
       "      <td>0</td>\n",
       "      <td>0</td>\n",
       "      <td>0</td>\n",
       "      <td>0</td>\n",
       "      <td>0</td>\n",
       "      <td>0</td>\n",
       "      <td>0</td>\n",
       "      <td>0</td>\n",
       "    </tr>\n",
       "    <tr>\n",
       "      <th>3</th>\n",
       "      <td>39426</td>\n",
       "      <td>223809</td>\n",
       "      <td>0.000000</td>\n",
       "      <td>0.0</td>\n",
       "      <td>0.000000</td>\n",
       "      <td>0</td>\n",
       "      <td>0.000000</td>\n",
       "      <td>0</td>\n",
       "      <td>0</td>\n",
       "      <td>-1</td>\n",
       "      <td>...</td>\n",
       "      <td>0.000000e+00</td>\n",
       "      <td>0.000000e+00</td>\n",
       "      <td>0</td>\n",
       "      <td>0</td>\n",
       "      <td>0</td>\n",
       "      <td>0</td>\n",
       "      <td>0</td>\n",
       "      <td>0</td>\n",
       "      <td>0</td>\n",
       "      <td>0</td>\n",
       "    </tr>\n",
       "    <tr>\n",
       "      <th>4</th>\n",
       "      <td>144959</td>\n",
       "      <td>21127</td>\n",
       "      <td>0.000000</td>\n",
       "      <td>0.0</td>\n",
       "      <td>0.000000</td>\n",
       "      <td>0</td>\n",
       "      <td>0.000000</td>\n",
       "      <td>1</td>\n",
       "      <td>1</td>\n",
       "      <td>-1</td>\n",
       "      <td>...</td>\n",
       "      <td>1.180136e-19</td>\n",
       "      <td>-7.593920e-21</td>\n",
       "      <td>18</td>\n",
       "      <td>3</td>\n",
       "      <td>0</td>\n",
       "      <td>0</td>\n",
       "      <td>0</td>\n",
       "      <td>0</td>\n",
       "      <td>0</td>\n",
       "      <td>0</td>\n",
       "    </tr>\n",
       "  </tbody>\n",
       "</table>\n",
       "<p>5 rows × 62 columns</p>\n",
       "</div>"
      ],
      "text/plain": [
       "   source_node  destination_node  jaccard_index_followees  \\\n",
       "0        80115             17000                 0.211009   \n",
       "1       180153             71703                 0.050000   \n",
       "2        56264           1426025                 0.000000   \n",
       "3        39426            223809                 0.000000   \n",
       "4       144959             21127                 0.000000   \n",
       "\n",
       "   jaccard_index_followers  cosine_index_followees  cosine_index_followers  \\\n",
       "0                      0.0                0.353428                       0   \n",
       "1                      0.0                0.136083                       0   \n",
       "2                      0.0                0.000000                       0   \n",
       "3                      0.0                0.000000                       0   \n",
       "4                      0.0                0.000000                       0   \n",
       "\n",
       "   adar_index  follows_back  belongs_to_same_wcc  shortest_path_length  ...  \\\n",
       "0   25.914995             0                    1                     2  ...   \n",
       "1    1.660964             1                    1                    -1  ...   \n",
       "2    0.000000             0                    0                    -1  ...   \n",
       "3    0.000000             0                    0                    -1  ...   \n",
       "4    0.000000             1                    1                    -1  ...   \n",
       "\n",
       "      svd_v_d_5     svd_v_d_6  prefer_attach_followers  \\\n",
       "0 -7.049940e-19 -3.612837e-07                     4235   \n",
       "1  1.401268e-19 -1.125244e-20                       54   \n",
       "2  0.000000e+00  0.000000e+00                        0   \n",
       "3  0.000000e+00  0.000000e+00                        0   \n",
       "4  1.180136e-19 -7.593920e-21                       18   \n",
       "\n",
       "   prefer_attach_followees  svd_dot_1  svd_dot_2  svd_dot_3  svd_dot_4  \\\n",
       "0                        0          0          0          0          0   \n",
       "1                        8          0          0          0          0   \n",
       "2                        0          0          0          0          0   \n",
       "3                        0          0          0          0          0   \n",
       "4                        3          0          0          0          0   \n",
       "\n",
       "   svd_dot_5  svd_dot_6  \n",
       "0          0          0  \n",
       "1          0          0  \n",
       "2          0          0  \n",
       "3          0          0  \n",
       "4          0          0  \n",
       "\n",
       "[5 rows x 62 columns]"
      ]
     },
     "execution_count": 106,
     "metadata": {},
     "output_type": "execute_result"
    }
   ],
   "source": [
    "df_train_final.head()"
   ]
  },
  {
   "cell_type": "code",
   "execution_count": 107,
   "metadata": {},
   "outputs": [
    {
     "data": {
      "text/plain": [
       "0    1\n",
       "1    1\n",
       "2    1\n",
       "3    1\n",
       "4    1\n",
       "Name: indicator_link, dtype: int64"
      ]
     },
     "execution_count": 107,
     "metadata": {},
     "output_type": "execute_result"
    }
   ],
   "source": [
    "y_train.head()"
   ]
  },
  {
   "cell_type": "code",
   "execution_count": 108,
   "metadata": {},
   "outputs": [
    {
     "data": {
      "text/plain": [
       "0    1\n",
       "1    1\n",
       "2    1\n",
       "3    1\n",
       "4    1\n",
       "Name: indicator_link, dtype: int64"
      ]
     },
     "execution_count": 108,
     "metadata": {},
     "output_type": "execute_result"
    }
   ],
   "source": [
    "y_test.head()"
   ]
  },
  {
   "cell_type": "code",
   "execution_count": null,
   "metadata": {},
   "outputs": [],
   "source": []
  },
  {
   "cell_type": "code",
   "execution_count": null,
   "metadata": {},
   "outputs": [],
   "source": []
  }
 ],
 "metadata": {
  "kernelspec": {
   "display_name": "Python 3",
   "language": "python",
   "name": "python3"
  },
  "language_info": {
   "codemirror_mode": {
    "name": "ipython",
    "version": 3
   },
   "file_extension": ".py",
   "mimetype": "text/x-python",
   "name": "python",
   "nbconvert_exporter": "python",
   "pygments_lexer": "ipython3",
   "version": "3.6.5"
  }
 },
 "nbformat": 4,
 "nbformat_minor": 2
}
