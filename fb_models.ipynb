{
 "cells": [
  {
   "cell_type": "code",
   "execution_count": 1,
   "metadata": {},
   "outputs": [],
   "source": [
    "import warnings\n",
    "warnings.filterwarnings(\"ignore\")\n",
    "\n",
    "import csv\n",
    "import pandas as pd \n",
    "import datetime \n",
    "import time \n",
    "import numpy as np\n",
    "import matplotlib\n",
    "import matplotlib.pylab as plt\n",
    "import seaborn as sns\n",
    "from matplotlib import rcParams  \n",
    "from sklearn.cluster import MiniBatchKMeans, KMeans#Clustering\n",
    "import math\n",
    "import pickle\n",
    "import os\n",
    "\n",
    "\n",
    "#import xgboost as xgb\n",
    "\n",
    "import warnings\n",
    "import networkx as nx\n",
    "import pdb\n",
    "import pickle\n",
    "\n",
    "from pandas import HDFStore,DataFrame\n",
    "from pandas import read_hdf\n",
    "from scipy.sparse.linalg import svds, eigs\n",
    "import gc\n",
    "from tqdm import tqdm"
   ]
  },
  {
   "cell_type": "code",
   "execution_count": 4,
   "metadata": {},
   "outputs": [
    {
     "name": "stdout",
     "output_type": "stream",
     "text": [
      "Name: \n",
      "Type: DiGraph\n",
      "Number of nodes: 1780722\n",
      "Number of edges: 7550015\n",
      "Average in degree:   4.2399\n",
      "Average out degree:   4.2399\n",
      "Wall time: 1min 15s\n"
     ]
    }
   ],
   "source": [
    "%%time\n",
    "if os.path.isfile('train_pos_after_eda.csv'):\n",
    "    train_graph=nx.read_edgelist('train_pos_after_eda.csv',delimiter=',',create_using=nx.DiGraph(),nodetype=int)\n",
    "    print(nx.info(train_graph))\n",
    "else:\n",
    "    print(\"please run the FB_EDA.ipynb or download the files from drive\")"
   ]
  },
  {
   "cell_type": "code",
   "execution_count": 45,
   "metadata": {},
   "outputs": [],
   "source": [
    "import random\n",
    "if os.path.isfile('train_after_eda.csv'):\n",
    "    filename = \"train_after_eda.csv\"\n",
    "    # you uncomment this line, if you dont know the lentgh of the file name\n",
    "    # here we have hardcoded the number of lines as 15100030\n",
    "    # n_train = sum(1 for line in open(filename)) #number of records in file (excludes header)\n",
    "    n_train =  15100028\n",
    "    s = 100000 #desired sample size\n",
    "    skip_train = sorted(random.sample(range(1,n_train+1),n_train-s))\n",
    "    #https://stackoverflow.com/a/22259008/4084039"
   ]
  },
  {
   "cell_type": "code",
   "execution_count": 46,
   "metadata": {},
   "outputs": [],
   "source": [
    "if os.path.isfile('train_after_eda.csv'):\n",
    "    filename = \"test_after_eda.csv\"\n",
    "    # you uncomment this line, if you dont know the lentgh of the file name\n",
    "    # here we have hardcoded the number of lines as 3775008\n",
    "    # n_test = sum(1 for line in open(filename)) #number of records in file (excludes header)\n",
    "    n_test = 3775006\n",
    "    s = 50000 #desired sample size\n",
    "    skip_test = sorted(random.sample(range(1,n_test+1),n_test-s))\n",
    "    #https://stackoverflow.com/a/22259008/4084039"
   ]
  },
  {
   "cell_type": "code",
   "execution_count": 47,
   "metadata": {},
   "outputs": [
    {
     "name": "stdout",
     "output_type": "stream",
     "text": [
      "Number of rows in the train data file: 15100028\n",
      "Number of rows we are going to elimiate in train data are 15000028\n",
      "Number of rows in the test data file: 3775006\n",
      "Number of rows we are going to elimiate in test data are 3725006\n"
     ]
    }
   ],
   "source": [
    "print(\"Number of rows in the train data file:\", n_train)\n",
    "print(\"Number of rows we are going to elimiate in train data are\",len(skip_train))\n",
    "print(\"Number of rows in the test data file:\", n_test)\n",
    "print(\"Number of rows we are going to elimiate in test data are\",len(skip_test))"
   ]
  },
  {
   "cell_type": "code",
   "execution_count": 48,
   "metadata": {},
   "outputs": [
    {
     "name": "stdout",
     "output_type": "stream",
     "text": [
      "Our train matrix size  (100002, 3)\n"
     ]
    },
    {
     "data": {
      "text/html": [
       "<div>\n",
       "<style scoped>\n",
       "    .dataframe tbody tr th:only-of-type {\n",
       "        vertical-align: middle;\n",
       "    }\n",
       "\n",
       "    .dataframe tbody tr th {\n",
       "        vertical-align: top;\n",
       "    }\n",
       "\n",
       "    .dataframe thead th {\n",
       "        text-align: right;\n",
       "    }\n",
       "</style>\n",
       "<table border=\"1\" class=\"dataframe\">\n",
       "  <thead>\n",
       "    <tr style=\"text-align: right;\">\n",
       "      <th></th>\n",
       "      <th>source_node</th>\n",
       "      <th>destination_node</th>\n",
       "      <th>indicator_link</th>\n",
       "    </tr>\n",
       "  </thead>\n",
       "  <tbody>\n",
       "    <tr>\n",
       "      <th>0</th>\n",
       "      <td>273084</td>\n",
       "      <td>1505602</td>\n",
       "      <td>1</td>\n",
       "    </tr>\n",
       "    <tr>\n",
       "      <th>1</th>\n",
       "      <td>424175</td>\n",
       "      <td>1404855</td>\n",
       "      <td>1</td>\n",
       "    </tr>\n",
       "  </tbody>\n",
       "</table>\n",
       "</div>"
      ],
      "text/plain": [
       "   source_node  destination_node  indicator_link\n",
       "0       273084           1505602               1\n",
       "1       424175           1404855               1"
      ]
     },
     "execution_count": 48,
     "metadata": {},
     "output_type": "execute_result"
    }
   ],
   "source": [
    "df_final_train = pd.read_csv('train_after_eda.csv', skiprows=skip_train, names=['source_node', 'destination_node'])\n",
    "df_final_train['indicator_link'] = pd.read_csv('train_y.csv', skiprows=skip_train, names=['indicator_link'])\n",
    "print(\"Our train matrix size \",df_final_train.shape)\n",
    "df_final_train.head(2)"
   ]
  },
  {
   "cell_type": "code",
   "execution_count": 49,
   "metadata": {},
   "outputs": [
    {
     "name": "stdout",
     "output_type": "stream",
     "text": [
      "Our test matrix size  (50002, 3)\n"
     ]
    },
    {
     "data": {
      "text/html": [
       "<div>\n",
       "<style scoped>\n",
       "    .dataframe tbody tr th:only-of-type {\n",
       "        vertical-align: middle;\n",
       "    }\n",
       "\n",
       "    .dataframe tbody tr th {\n",
       "        vertical-align: top;\n",
       "    }\n",
       "\n",
       "    .dataframe thead th {\n",
       "        text-align: right;\n",
       "    }\n",
       "</style>\n",
       "<table border=\"1\" class=\"dataframe\">\n",
       "  <thead>\n",
       "    <tr style=\"text-align: right;\">\n",
       "      <th></th>\n",
       "      <th>source_node</th>\n",
       "      <th>destination_node</th>\n",
       "      <th>indicator_link</th>\n",
       "    </tr>\n",
       "  </thead>\n",
       "  <tbody>\n",
       "    <tr>\n",
       "      <th>0</th>\n",
       "      <td>848424</td>\n",
       "      <td>784690</td>\n",
       "      <td>1</td>\n",
       "    </tr>\n",
       "    <tr>\n",
       "      <th>1</th>\n",
       "      <td>783368</td>\n",
       "      <td>1420922</td>\n",
       "      <td>1</td>\n",
       "    </tr>\n",
       "  </tbody>\n",
       "</table>\n",
       "</div>"
      ],
      "text/plain": [
       "   source_node  destination_node  indicator_link\n",
       "0       848424            784690               1\n",
       "1       783368           1420922               1"
      ]
     },
     "execution_count": 49,
     "metadata": {},
     "output_type": "execute_result"
    }
   ],
   "source": [
    "df_final_test = pd.read_csv('test_after_eda.csv', skiprows=skip_test, names=['source_node', 'destination_node'])\n",
    "df_final_test['indicator_link'] = pd.read_csv('test_y.csv', skiprows=skip_test, names=['indicator_link'])\n",
    "print(\"Our test matrix size \",df_final_test.shape)\n",
    "df_final_test.head(2)"
   ]
  },
  {
   "cell_type": "code",
   "execution_count": 98,
   "metadata": {},
   "outputs": [],
   "source": [
    "if os.path.isfile('storage_sample_stage4.h5'):\n",
    "    df_train_final=read_hdf('storage_sample_stage4.h5','train_df','r')\n",
    "    df_test_final=read_hdf('storage_sample_stage4.h5','test_df','r')"
   ]
  },
  {
   "cell_type": "code",
   "execution_count": 99,
   "metadata": {},
   "outputs": [
    {
     "data": {
      "text/plain": [
       "(50002, 54)"
      ]
     },
     "execution_count": 99,
     "metadata": {},
     "output_type": "execute_result"
    }
   ],
   "source": [
    "df_test_final.shape"
   ]
  },
  {
   "cell_type": "code",
   "execution_count": 82,
   "metadata": {},
   "outputs": [
    {
     "data": {
      "text/plain": [
       "Index(['source_node', 'destination_node', 'indicator_link',\n",
       "       'jaccard_followers', 'jaccard_followees', 'cosine_followers',\n",
       "       'cosine_followees', 'num_followers_s', 'num_followees_s',\n",
       "       'num_followees_d', 'inter_followers', 'inter_followees', 'adar_index',\n",
       "       'follows_back', 'same_comp', 'shortest_path', 'weight_in', 'weight_out',\n",
       "       'weight_f1', 'weight_f2', 'weight_f3', 'weight_f4', 'page_rank_s',\n",
       "       'page_rank_d', 'katz_s', 'katz_d', 'hubs_s', 'hubs_d', 'authorities_s',\n",
       "       'authorities_d', 'svd_u_s_1', 'svd_u_s_2', 'svd_u_s_3', 'svd_u_s_4',\n",
       "       'svd_u_s_5', 'svd_u_s_6', 'svd_u_d_1', 'svd_u_d_2', 'svd_u_d_3',\n",
       "       'svd_u_d_4', 'svd_u_d_5', 'svd_u_d_6', 'svd_v_s_1', 'svd_v_s_2',\n",
       "       'svd_v_s_3', 'svd_v_s_4', 'svd_v_s_5', 'svd_v_s_6', 'svd_v_d_1',\n",
       "       'svd_v_d_2', 'svd_v_d_3', 'svd_v_d_4', 'svd_v_d_5', 'svd_v_d_6'],\n",
       "      dtype='object')"
      ]
     },
     "execution_count": 82,
     "metadata": {},
     "output_type": "execute_result"
    }
   ],
   "source": [
    "df_test_final.columns"
   ]
  },
  {
   "cell_type": "code",
   "execution_count": 100,
   "metadata": {},
   "outputs": [
    {
     "data": {
      "text/plain": [
       "(100002, 54)"
      ]
     },
     "execution_count": 100,
     "metadata": {},
     "output_type": "execute_result"
    }
   ],
   "source": [
    "df_train_final.shape"
   ]
  },
  {
   "cell_type": "code",
   "execution_count": 51,
   "metadata": {},
   "outputs": [],
   "source": [
    "def svd(x, S):\n",
    "    try:\n",
    "        z = sadj_dict[x]\n",
    "        return S[z]\n",
    "    except:\n",
    "        return [0,0,0,0,0,0]"
   ]
  },
  {
   "cell_type": "code",
   "execution_count": 52,
   "metadata": {},
   "outputs": [],
   "source": [
    "sadj_col = sorted(train_graph.nodes())\n",
    "sadj_dict = { val:idx for idx,val in enumerate(sadj_col)}"
   ]
  },
  {
   "cell_type": "code",
   "execution_count": 53,
   "metadata": {},
   "outputs": [
    {
     "ename": "KeyboardInterrupt",
     "evalue": "",
     "output_type": "error",
     "traceback": [
      "\u001b[1;31m---------------------------------------------------------------------------\u001b[0m",
      "\u001b[1;31mKeyboardInterrupt\u001b[0m                         Traceback (most recent call last)",
      "\u001b[1;32m<timed exec>\u001b[0m in \u001b[0;36m<module>\u001b[1;34m()\u001b[0m\n",
      "\u001b[1;32m~\\Anaconda3\\lib\\site-packages\\scipy\\sparse\\base.py\u001b[0m in \u001b[0;36masfptype\u001b[1;34m(self)\u001b[0m\n\u001b[0;32m    200\u001b[0m             \u001b[1;32mfor\u001b[0m \u001b[0mfp_type\u001b[0m \u001b[1;32min\u001b[0m \u001b[0mfp_types\u001b[0m\u001b[1;33m:\u001b[0m\u001b[1;33m\u001b[0m\u001b[0m\n\u001b[0;32m    201\u001b[0m                 \u001b[1;32mif\u001b[0m \u001b[0mself\u001b[0m\u001b[1;33m.\u001b[0m\u001b[0mdtype\u001b[0m \u001b[1;33m<=\u001b[0m \u001b[0mnp\u001b[0m\u001b[1;33m.\u001b[0m\u001b[0mdtype\u001b[0m\u001b[1;33m(\u001b[0m\u001b[0mfp_type\u001b[0m\u001b[1;33m)\u001b[0m\u001b[1;33m:\u001b[0m\u001b[1;33m\u001b[0m\u001b[0m\n\u001b[1;32m--> 202\u001b[1;33m                     \u001b[1;32mreturn\u001b[0m \u001b[0mself\u001b[0m\u001b[1;33m.\u001b[0m\u001b[0mastype\u001b[0m\u001b[1;33m(\u001b[0m\u001b[0mfp_type\u001b[0m\u001b[1;33m)\u001b[0m\u001b[1;33m\u001b[0m\u001b[0m\n\u001b[0m\u001b[0;32m    203\u001b[0m \u001b[1;33m\u001b[0m\u001b[0m\n\u001b[0;32m    204\u001b[0m             raise TypeError('cannot upcast [%s] to a floating '\n",
      "\u001b[1;32m~\\Anaconda3\\lib\\site-packages\\scipy\\sparse\\data.py\u001b[0m in \u001b[0;36mastype\u001b[1;34m(self, dtype, casting, copy)\u001b[0m\n\u001b[0;32m     69\u001b[0m         \u001b[1;32mif\u001b[0m \u001b[0mself\u001b[0m\u001b[1;33m.\u001b[0m\u001b[0mdtype\u001b[0m \u001b[1;33m!=\u001b[0m \u001b[0mdtype\u001b[0m\u001b[1;33m:\u001b[0m\u001b[1;33m\u001b[0m\u001b[0m\n\u001b[0;32m     70\u001b[0m             return self._with_data(\n\u001b[1;32m---> 71\u001b[1;33m                 \u001b[0mself\u001b[0m\u001b[1;33m.\u001b[0m\u001b[0m_deduped_data\u001b[0m\u001b[1;33m(\u001b[0m\u001b[1;33m)\u001b[0m\u001b[1;33m.\u001b[0m\u001b[0mastype\u001b[0m\u001b[1;33m(\u001b[0m\u001b[0mdtype\u001b[0m\u001b[1;33m,\u001b[0m \u001b[0mcasting\u001b[0m\u001b[1;33m=\u001b[0m\u001b[0mcasting\u001b[0m\u001b[1;33m,\u001b[0m \u001b[0mcopy\u001b[0m\u001b[1;33m=\u001b[0m\u001b[0mcopy\u001b[0m\u001b[1;33m)\u001b[0m\u001b[1;33m,\u001b[0m\u001b[1;33m\u001b[0m\u001b[0m\n\u001b[0m\u001b[0;32m     72\u001b[0m                 copy=copy)\n\u001b[0;32m     73\u001b[0m         \u001b[1;32melif\u001b[0m \u001b[0mcopy\u001b[0m\u001b[1;33m:\u001b[0m\u001b[1;33m\u001b[0m\u001b[0m\n",
      "\u001b[1;31mKeyboardInterrupt\u001b[0m: "
     ]
    }
   ],
   "source": [
    "%%time\n",
    "Adj = nx.adjacency_matrix(train_graph,nodelist=sorted(train_graph.nodes())).asfptype()"
   ]
  },
  {
   "cell_type": "code",
   "execution_count": 54,
   "metadata": {},
   "outputs": [
    {
     "name": "stdout",
     "output_type": "stream",
     "text": [
      "Adjacency matrix Shape (1780722, 1780722)\n",
      "U Shape (1780722, 6)\n",
      "V Shape (6, 1780722)\n",
      "s Shape (6,)\n"
     ]
    }
   ],
   "source": [
    "U, s, V = svds(Adj, k = 6)\n",
    "print('Adjacency matrix Shape',Adj.shape)\n",
    "print('U Shape',U.shape)\n",
    "print('V Shape',V.shape)\n",
    "print('s Shape',s.shape)"
   ]
  },
  {
   "cell_type": "code",
   "execution_count": 101,
   "metadata": {},
   "outputs": [
    {
     "name": "stdout",
     "output_type": "stream",
     "text": [
      "Wall time: 2h 4min 48s\n"
     ]
    }
   ],
   "source": [
    "%%time\n",
    "df_train_final[['svd_dot_1_s', 'svd_dot_2_s','svd_dot_3_s', 'svd_dot_4_s', 'svd_dot_5_s', 'svd_dot_6_s']]= \\\n",
    "df_train_final.source_node.apply(lambda x: svd(x, np.dot(V,U))).apply(pd.Series)\n",
    "df_train_final[['svd_dot_1_d', 'svd_dot_2_d','svd_dot_3_d', 'svd_dot_4_d', 'svd_dot_5_d', 'svd_dot_6_d']]= \\\n",
    "df_train_final.destination_node.apply(lambda x: svd(x, np.dot(V,U))).apply(pd.Series)\n",
    "\n",
    "df_test_final[['svd_dot_1_s', 'svd_dot_2_s','svd_dot_3_s', 'svd_dot_4_s', 'svd_dot_5_s', 'svd_dot_6_s']]= \\\n",
    "df_test_final.source_node.apply(lambda x: svd(x, np.dot(V,U))).apply(pd.Series)\n",
    "df_test_final[['svd_dot_1_d', 'svd_dot_2_d','svd_dot_3_d', 'svd_dot_4_d', 'svd_dot_5_d', 'svd_dot_6_d']]= \\\n",
    "df_test_final.destination_node.apply(lambda x: svd(x, np.dot(V,U))).apply(pd.Series)"
   ]
  },
  {
   "cell_type": "code",
   "execution_count": 56,
   "metadata": {},
   "outputs": [],
   "source": [
    "def prefer_attach_followers(a,b):\n",
    "    try:\n",
    "        x=(len(set(train_graph.successors(a)))*len(set(train_graph.successors(b))))\n",
    "        \n",
    "        return x\n",
    "    except:\n",
    "        return 0"
   ]
  },
  {
   "cell_type": "code",
   "execution_count": 57,
   "metadata": {},
   "outputs": [],
   "source": [
    "def prefer_attach_followees(a,b):\n",
    "    try:\n",
    "        y=(len(set(train_graph.predecessors(a)))*len(set(train_graph.predecessors(b))))\n",
    "        \n",
    "        return y\n",
    "    except:\n",
    "        return 0"
   ]
  },
  {
   "cell_type": "code",
   "execution_count": 102,
   "metadata": {},
   "outputs": [
    {
     "name": "stdout",
     "output_type": "stream",
     "text": [
      "Wall time: 58.6 s\n"
     ]
    }
   ],
   "source": [
    "%%time\n",
    "df_train_final['prefer_attach_followers']=df_train_final.apply(lambda row:\n",
    "                                                           prefer_attach_followers(row['source_node'],row['destination_node']),axis=1)\n",
    "df_train_final['prefer_attach_followees']=df_train_final.apply(lambda row:\n",
    "                                                           prefer_attach_followees(row['source_node'],row['destination_node']),axis=1)\n",
    "\n",
    "df_test_final['prefer_attach_followers']=df_test_final.apply(lambda row:\n",
    "                                                           prefer_attach_followers(row['source_node'],row['destination_node']),axis=1)\n",
    "df_test_final['prefer_attach_followees']=df_test_final.apply(lambda row:\n",
    "                                                           prefer_attach_followees(row['source_node'],row['destination_node']),axis=1)\n",
    "\n",
    "\n",
    "\n",
    "hdf=HDFStore('stored_data1.h5')\n",
    "hdf.put('train_df',df_train_final,format='table',data_columns=True)\n",
    "hdf.put('test_df',df_test_final,format='table',data_columns=True)\n",
    "hdf.close()"
   ]
  },
  {
   "cell_type": "code",
   "execution_count": 5,
   "metadata": {},
   "outputs": [],
   "source": [
    "df_train_final=read_hdf('stored_data1.h5','train_df','r')\n",
    "df_test_final=read_hdf('stored_data1.h5','test_df','r')"
   ]
  },
  {
   "cell_type": "code",
   "execution_count": 3,
   "metadata": {},
   "outputs": [
    {
     "data": {
      "text/plain": [
       "Index(['source_node', 'destination_node', 'indicator_link',\n",
       "       'jaccard_followers', 'jaccard_followees', 'cosine_followers',\n",
       "       'cosine_followees', 'num_followers_s', 'num_followees_s',\n",
       "       'num_followees_d', 'inter_followers', 'inter_followees', 'adar_index',\n",
       "       'follows_back', 'same_comp', 'shortest_path', 'weight_in', 'weight_out',\n",
       "       'weight_f1', 'weight_f2', 'weight_f3', 'weight_f4', 'page_rank_s',\n",
       "       'page_rank_d', 'katz_s', 'katz_d', 'hubs_s', 'hubs_d', 'authorities_s',\n",
       "       'authorities_d', 'svd_u_s_1', 'svd_u_s_2', 'svd_u_s_3', 'svd_u_s_4',\n",
       "       'svd_u_s_5', 'svd_u_s_6', 'svd_u_d_1', 'svd_u_d_2', 'svd_u_d_3',\n",
       "       'svd_u_d_4', 'svd_u_d_5', 'svd_u_d_6', 'svd_v_s_1', 'svd_v_s_2',\n",
       "       'svd_v_s_3', 'svd_v_s_4', 'svd_v_s_5', 'svd_v_s_6', 'svd_v_d_1',\n",
       "       'svd_v_d_2', 'svd_v_d_3', 'svd_v_d_4', 'svd_v_d_5', 'svd_v_d_6',\n",
       "       'svd_dot_1_s', 'svd_dot_2_s', 'svd_dot_3_s', 'svd_dot_4_s',\n",
       "       'svd_dot_5_s', 'svd_dot_6_s', 'svd_dot_1_d', 'svd_dot_2_d',\n",
       "       'svd_dot_3_d', 'svd_dot_4_d', 'svd_dot_5_d', 'svd_dot_6_d',\n",
       "       'prefer_attach_followers', 'prefer_attach_followees'],\n",
       "      dtype='object')"
      ]
     },
     "execution_count": 3,
     "metadata": {},
     "output_type": "execute_result"
    }
   ],
   "source": [
    "df_train_final.columns\n"
   ]
  },
  {
   "cell_type": "code",
   "execution_count": null,
   "metadata": {},
   "outputs": [],
   "source": []
  },
  {
   "cell_type": "code",
   "execution_count": 4,
   "metadata": {},
   "outputs": [
    {
     "data": {
      "text/plain": [
       "Index(['source_node', 'destination_node', 'indicator_link',\n",
       "       'jaccard_followers', 'jaccard_followees', 'cosine_followers',\n",
       "       'cosine_followees', 'num_followers_s', 'num_followees_s',\n",
       "       'num_followees_d', 'inter_followers', 'inter_followees', 'adar_index',\n",
       "       'follows_back', 'same_comp', 'shortest_path', 'weight_in', 'weight_out',\n",
       "       'weight_f1', 'weight_f2', 'weight_f3', 'weight_f4', 'page_rank_s',\n",
       "       'page_rank_d', 'katz_s', 'katz_d', 'hubs_s', 'hubs_d', 'authorities_s',\n",
       "       'authorities_d', 'svd_u_s_1', 'svd_u_s_2', 'svd_u_s_3', 'svd_u_s_4',\n",
       "       'svd_u_s_5', 'svd_u_s_6', 'svd_u_d_1', 'svd_u_d_2', 'svd_u_d_3',\n",
       "       'svd_u_d_4', 'svd_u_d_5', 'svd_u_d_6', 'svd_v_s_1', 'svd_v_s_2',\n",
       "       'svd_v_s_3', 'svd_v_s_4', 'svd_v_s_5', 'svd_v_s_6', 'svd_v_d_1',\n",
       "       'svd_v_d_2', 'svd_v_d_3', 'svd_v_d_4', 'svd_v_d_5', 'svd_v_d_6',\n",
       "       'svd_dot_1_s', 'svd_dot_2_s', 'svd_dot_3_s', 'svd_dot_4_s',\n",
       "       'svd_dot_5_s', 'svd_dot_6_s', 'svd_dot_1_d', 'svd_dot_2_d',\n",
       "       'svd_dot_3_d', 'svd_dot_4_d', 'svd_dot_5_d', 'svd_dot_6_d',\n",
       "       'prefer_attach_followers', 'prefer_attach_followees'],\n",
       "      dtype='object')"
      ]
     },
     "execution_count": 4,
     "metadata": {},
     "output_type": "execute_result"
    }
   ],
   "source": [
    "df_test_final.columns"
   ]
  },
  {
   "cell_type": "code",
   "execution_count": 6,
   "metadata": {},
   "outputs": [],
   "source": [
    "y_train = df_train_final.indicator_link\n",
    "y_test = df_test_final.indicator_link"
   ]
  },
  {
   "cell_type": "code",
   "execution_count": 7,
   "metadata": {},
   "outputs": [],
   "source": [
    "df_train_final.drop(['source_node', 'destination_node','indicator_link'],axis=1,inplace=True)\n",
    "df_test_final.drop(['source_node', 'destination_node','indicator_link'],axis=1,inplace=True)"
   ]
  },
  {
   "cell_type": "code",
   "execution_count": 8,
   "metadata": {},
   "outputs": [
    {
     "data": {
      "text/plain": [
       "(100002, 65)"
      ]
     },
     "execution_count": 8,
     "metadata": {},
     "output_type": "execute_result"
    }
   ],
   "source": [
    "df_train_final.shape"
   ]
  },
  {
   "cell_type": "code",
   "execution_count": 9,
   "metadata": {},
   "outputs": [
    {
     "data": {
      "text/plain": [
       "(50002, 65)"
      ]
     },
     "execution_count": 9,
     "metadata": {},
     "output_type": "execute_result"
    }
   ],
   "source": [
    "df_test_final.shape"
   ]
  },
  {
   "cell_type": "code",
   "execution_count": 11,
   "metadata": {},
   "outputs": [
    {
     "data": {
      "text/plain": [
       "(100002,)"
      ]
     },
     "execution_count": 11,
     "metadata": {},
     "output_type": "execute_result"
    }
   ],
   "source": [
    "y_train.shape"
   ]
  },
  {
   "cell_type": "code",
   "execution_count": 12,
   "metadata": {},
   "outputs": [
    {
     "data": {
      "text/plain": [
       "(50002,)"
      ]
     },
     "execution_count": 12,
     "metadata": {},
     "output_type": "execute_result"
    }
   ],
   "source": [
    "y_test.shape"
   ]
  },
  {
   "cell_type": "code",
   "execution_count": 13,
   "metadata": {},
   "outputs": [
    {
     "name": "stdout",
     "output_type": "stream",
     "text": [
      "Estimators =  10 Train Score 0.9129895186942691 test Score 0.9085009733939001\n",
      "Estimators =  50 Train Score 0.9194720574722245 test Score 0.91511569416499\n",
      "Estimators =  100 Train Score 0.9216766116643851 test Score 0.9176174496644295\n",
      "Estimators =  250 Train Score 0.9210369580890881 test Score 0.9164149043303121\n",
      "Estimators =  450 Train Score 0.9208816462968765 test Score 0.9136082734266616\n",
      "Wall time: 51 s\n"
     ]
    },
    {
     "data": {
      "image/png": "[encoded data removed]",
      "text/plain": [
       "<Figure size 432x288 with 1 Axes>"
      ]
     },
     "metadata": {},
     "output_type": "display_data"
    }
   ],
   "source": [
    "%%time\n",
    "from sklearn.ensemble import RandomForestClassifier\n",
    "from sklearn.metrics import f1_score\n",
    "estimators = [10,50,100,250,450]\n",
    "train_scores = []\n",
    "test_scores = []\n",
    "for i in estimators:\n",
    "    clf = RandomForestClassifier(bootstrap=True, class_weight=None, criterion='gini',\n",
    "            max_depth=5, max_features='auto', max_leaf_nodes=None,\n",
    "            min_impurity_decrease=0.0, min_impurity_split=None,\n",
    "            min_samples_leaf=52, min_samples_split=120,\n",
    "            min_weight_fraction_leaf=0.0, n_estimators=i, n_jobs=-1,random_state=25,verbose=0,warm_start=False)\n",
    "    clf.fit(df_train_final,y_train)\n",
    "    train_sc = f1_score(y_train,clf.predict(df_train_final))\n",
    "    test_sc = f1_score(y_test,clf.predict(df_test_final))\n",
    "    test_scores.append(test_sc)\n",
    "    train_scores.append(train_sc)\n",
    "    print('Estimators = ',i,'Train Score',train_sc,'test Score',test_sc)\n",
    "plt.plot(estimators,train_scores,label='Train Score')\n",
    "plt.plot(estimators,test_scores,label='Test Score')\n",
    "plt.xlabel('Estimators')\n",
    "plt.ylabel('Score')\n",
    "plt.title('Estimators vs score at depth of 5')"
   ]
  },
  {
   "cell_type": "code",
   "execution_count": 15,
   "metadata": {},
   "outputs": [
    {
     "name": "stdout",
     "output_type": "stream",
     "text": [
      "Estimators =  90 Train Score 0.9218438546873858 test Score 0.9179063822654318\n",
      "Estimators =  95 Train Score 0.9225138554846806 test Score 0.9184380049100866\n",
      "Estimators =  100 Train Score 0.9216766116643851 test Score 0.9176174496644295\n",
      "Estimators =  105 Train Score 0.9212170605813638 test Score 0.9172714687250912\n",
      "Estimators =  110 Train Score 0.921170064899098 test Score 0.9171124677449808\n",
      "Estimators =  120 Train Score 0.9216225542995179 test Score 0.9174469871929456\n",
      "Estimators =  125 Train Score 0.9219297419968834 test Score 0.9177043741206611\n",
      "Wall time: 48.4 s\n"
     ]
    },
    {
     "data": {
      "image/png": "[encoded data removed]",
      "text/plain": [
       "<Figure size 432x288 with 1 Axes>"
      ]
     },
     "metadata": {},
     "output_type": "display_data"
    }
   ],
   "source": [
    "%%time\n",
    "from sklearn.ensemble import RandomForestClassifier\n",
    "from sklearn.metrics import f1_score\n",
    "estimators = [90,95,100,105,110,120,125]\n",
    "train_scores = []\n",
    "test_scores = []\n",
    "for i in estimators:\n",
    "    clf = RandomForestClassifier(bootstrap=True, class_weight=None, criterion='gini',\n",
    "            max_depth=5, max_features='auto', max_leaf_nodes=None,\n",
    "            min_impurity_decrease=0.0, min_impurity_split=None,\n",
    "            min_samples_leaf=52, min_samples_split=120,\n",
    "            min_weight_fraction_leaf=0.0, n_estimators=i, n_jobs=-1,random_state=25,verbose=0,warm_start=False)\n",
    "    clf.fit(df_train_final,y_train)\n",
    "    train_sc = f1_score(y_train,clf.predict(df_train_final))\n",
    "    test_sc = f1_score(y_test,clf.predict(df_test_final))\n",
    "    test_scores.append(test_sc)\n",
    "    train_scores.append(train_sc)\n",
    "    print('Estimators = ',i,'Train Score',train_sc,'test Score',test_sc)\n",
    "plt.plot(estimators,train_scores,label='Train Score')\n",
    "plt.plot(estimators,test_scores,label='Test Score')\n",
    "plt.xlabel('Estimators')\n",
    "plt.ylabel('Score')\n",
    "plt.title('Estimators vs score at depth of 5')"
   ]
  },
  {
   "cell_type": "code",
   "execution_count": 14,
   "metadata": {},
   "outputs": [
    {
     "name": "stdout",
     "output_type": "stream",
     "text": [
      "depth =  3 Train Score 0.8941630847816606 test Score 0.8763504388926401\n",
      "depth =  9 Train Score 0.9555205627926951 test Score 0.9216597650638046\n",
      "depth =  11 Train Score 0.9582174404743712 test Score 0.9231936279157975\n",
      "depth =  15 Train Score 0.9627434205165812 test Score 0.9261144075849398\n",
      "depth =  20 Train Score 0.9635194006758683 test Score 0.9239360351975633\n",
      "depth =  35 Train Score 0.9636572731251082 test Score 0.9228684550401219\n",
      "depth =  50 Train Score 0.9636572731251082 test Score 0.9228684550401219\n",
      "depth =  70 Train Score 0.9636572731251082 test Score 0.9228684550401219\n",
      "depth =  130 Train Score 0.9636572731251082 test Score 0.9228684550401219\n"
     ]
    },
    {
     "data": {
      "image/png": "[encoded data removed]",
      "text/plain": [
       "<Figure size 432x288 with 1 Axes>"
      ]
     },
     "metadata": {},
     "output_type": "display_data"
    }
   ],
   "source": [
    "depths = [3,9,11,15,20,35,50,70,130]\n",
    "train_scores = []\n",
    "test_scores = []\n",
    "for i in depths:\n",
    "    clf = RandomForestClassifier(bootstrap=True, class_weight=None, criterion='gini',\n",
    "            max_depth=i, max_features='auto', max_leaf_nodes=None,\n",
    "            min_impurity_decrease=0.0, min_impurity_split=None,\n",
    "            min_samples_leaf=52, min_samples_split=120,\n",
    "            min_weight_fraction_leaf=0.0, n_estimators=115, n_jobs=-1,random_state=25,verbose=0,warm_start=False)\n",
    "    clf.fit(df_train_final,y_train)\n",
    "    train_sc = f1_score(y_train,clf.predict(df_train_final))\n",
    "    test_sc = f1_score(y_test,clf.predict(df_test_final))\n",
    "    test_scores.append(test_sc)\n",
    "    train_scores.append(train_sc)\n",
    "    print('depth = ',i,'Train Score',train_sc,'test Score',test_sc)\n",
    "plt.plot(depths,train_scores,label='Train Score')\n",
    "plt.plot(depths,test_scores,label='Test Score')\n",
    "plt.xlabel('Depth')\n",
    "plt.ylabel('Score')\n",
    "plt.title('Depth vs score at depth of 5 at estimators = 115')\n",
    "plt.show()"
   ]
  },
  {
   "cell_type": "code",
   "execution_count": 16,
   "metadata": {},
   "outputs": [
    {
     "name": "stdout",
     "output_type": "stream",
     "text": [
      "depth =  9 Train Score 0.9555205627926951 test Score 0.9216597650638046\n",
      "depth =  11 Train Score 0.9582174404743712 test Score 0.9231936279157975\n",
      "depth =  13 Train Score 0.9620557548092599 test Score 0.9223730752123356\n",
      "depth =  15 Train Score 0.9627434205165812 test Score 0.9261144075849398\n",
      "depth =  17 Train Score 0.9631009835664978 test Score 0.9262815777810608\n",
      "depth =  20 Train Score 0.9635194006758683 test Score 0.9239360351975633\n"
     ]
    },
    {
     "data": {
      "image/png": "[encoded data removed]",
      "text/plain": [
       "<Figure size 432x288 with 1 Axes>"
      ]
     },
     "metadata": {},
     "output_type": "display_data"
    }
   ],
   "source": [
    "depths = [9,11,13,15,17,20]\n",
    "train_scores = []\n",
    "test_scores = []\n",
    "for i in depths:\n",
    "    clf = RandomForestClassifier(bootstrap=True, class_weight=None, criterion='gini',\n",
    "            max_depth=i, max_features='auto', max_leaf_nodes=None,\n",
    "            min_impurity_decrease=0.0, min_impurity_split=None,\n",
    "            min_samples_leaf=52, min_samples_split=120,\n",
    "            min_weight_fraction_leaf=0.0, n_estimators=115, n_jobs=-1,random_state=25,verbose=0,warm_start=False)\n",
    "    clf.fit(df_train_final,y_train)\n",
    "    train_sc = f1_score(y_train,clf.predict(df_train_final))\n",
    "    test_sc = f1_score(y_test,clf.predict(df_test_final))\n",
    "    test_scores.append(test_sc)\n",
    "    train_scores.append(train_sc)\n",
    "    print('depth = ',i,'Train Score',train_sc,'test Score',test_sc)\n",
    "plt.plot(depths,train_scores,label='Train Score')\n",
    "plt.plot(depths,test_scores,label='Test Score')\n",
    "plt.xlabel('Depth')\n",
    "plt.ylabel('Score')\n",
    "plt.title('Depth vs score at depth of 5 at estimators = 115')\n",
    "plt.show()"
   ]
  },
  {
   "cell_type": "code",
   "execution_count": 2,
   "metadata": {},
   "outputs": [],
   "source": [
    "from sklearn.metrics import f1_score\n",
    "from sklearn.ensemble import RandomForestClassifier\n",
    "from sklearn.metrics import f1_score\n",
    "from sklearn.model_selection import RandomizedSearchCV\n",
    "from scipy.stats import randint as sp_randint\n",
    "from scipy.stats import uniform"
   ]
  },
  {
   "cell_type": "markdown",
   "metadata": {},
   "source": [
    "# Applying randomsearch for cross validation"
   ]
  },
  {
   "cell_type": "code",
   "execution_count": 25,
   "metadata": {},
   "outputs": [
    {
     "name": "stdout",
     "output_type": "stream",
     "text": [
      "mean test scores [0.96129354 0.96114685 0.96189397 0.96256586 0.96156208]\n",
      "mean train scores [0.96189714 0.96203082 0.96258502 0.96331515 0.96224888]\n",
      "Wall time: 6min 30s\n"
     ]
    }
   ],
   "source": [
    "%%time\n",
    "param_dist={'n_estimators':sp_randint(95,110),'max_depth':sp_randint(12,20),'min_samples_split':sp_randint(110,190),\n",
    "            'min_samples_leaf':sp_randint(25,65)}\n",
    "clf=RandomForestClassifier(random_state=23,n_jobs=-1)\n",
    "cv_search=RandomizedSearchCV(clf, param_distributions=param_dist, n_iter=5, scoring='f1', n_jobs=-1, \n",
    "                             cv=10,random_state=23,return_train_score=True)\n",
    "cv_search.fit(df_train_final,y_train)\n",
    "print('mean test scores',cv_search.cv_results_['mean_test_score'])\n",
    "print('mean train scores',cv_search.cv_results_['mean_train_score'])"
   ]
  },
  {
   "cell_type": "code",
   "execution_count": 26,
   "metadata": {},
   "outputs": [
    {
     "data": {
      "text/plain": [
       "RandomForestClassifier(bootstrap=True, class_weight=None, criterion='gini',\n",
       "                       max_depth=18, max_features='auto', max_leaf_nodes=None,\n",
       "                       min_impurity_decrease=0.0, min_impurity_split=None,\n",
       "                       min_samples_leaf=37, min_samples_split=159,\n",
       "                       min_weight_fraction_leaf=0.0, n_estimators=97, n_jobs=-1,\n",
       "                       oob_score=False, random_state=23, verbose=0,\n",
       "                       warm_start=False)"
      ]
     },
     "execution_count": 26,
     "metadata": {},
     "output_type": "execute_result"
    }
   ],
   "source": [
    "cv_search.best_estimator_"
   ]
  },
  {
   "cell_type": "code",
   "execution_count": 27,
   "metadata": {},
   "outputs": [],
   "source": [
    "clf=RandomForestClassifier(bootstrap=True, class_weight=None, criterion='gini',\n",
    "                       max_depth=18, max_features='auto', max_leaf_nodes=None,\n",
    "                       min_impurity_decrease=0.0, min_impurity_split=None,\n",
    "                       min_samples_leaf=37, min_samples_split=159,\n",
    "                       min_weight_fraction_leaf=0.0, n_estimators=97, n_jobs=-1,\n",
    "                       oob_score=False, random_state=23, verbose=0,\n",
    "                       warm_start=False)\n",
    "clf.fit(df_train_final,y_train)\n",
    "y_train_predict=clf.predict(df_train_final)\n",
    "y_test_predict=clf.predict(df_test_final)"
   ]
  },
  {
   "cell_type": "code",
   "execution_count": 28,
   "metadata": {},
   "outputs": [
    {
     "name": "stdout",
     "output_type": "stream",
     "text": [
      "f1 score of train data is 0.962778048384478\n",
      "f1 score of train data is 0.925498779358532\n"
     ]
    }
   ],
   "source": [
    "print('f1 score of train data is',f1_score(y_train,y_train_predict))\n",
    "print('f1 score of train data is',f1_score(y_test,y_test_predict))"
   ]
  },
  {
   "cell_type": "markdown",
   "metadata": {},
   "source": [
    "# plotting confusion matrix"
   ]
  },
  {
   "cell_type": "code",
   "execution_count": 31,
   "metadata": {},
   "outputs": [],
   "source": [
    "from sklearn.metrics import confusion_matrix"
   ]
  },
  {
   "cell_type": "code",
   "execution_count": 21,
   "metadata": {},
   "outputs": [],
   "source": [
    "from sklearn.metrics import confusion_matrix\n",
    "def plot_confusion_matrix(test_y, predict_y):\n",
    "    C = confusion_matrix(test_y, predict_y)\n",
    "    \n",
    "    A =(((C.T)/(C.sum(axis=1))).T)\n",
    "    \n",
    "    B =(C/C.sum(axis=0))\n",
    "    plt.figure(figsize=(20,4))\n",
    "    \n",
    "    labels = [0,1]\n",
    "    # representing A in heatmap format\n",
    "    cmap=sns.light_palette(\"blue\")\n",
    "    plt.subplot(1, 3, 1)\n",
    "    sns.heatmap(C, annot=True, cmap=cmap, fmt=\".3f\", xticklabels=labels, yticklabels=labels)\n",
    "    plt.xlabel('Predicted Class')\n",
    "    plt.ylabel('Original Class')\n",
    "    plt.title(\"Confusion matrix\")\n",
    "    \n",
    "    plt.subplot(1, 3, 2)\n",
    "    sns.heatmap(B, annot=True, cmap=cmap, fmt=\".3f\", xticklabels=labels, yticklabels=labels)\n",
    "    plt.xlabel('Predicted Class')\n",
    "    plt.ylabel('Original Class')\n",
    "    plt.title(\"Precision matrix\")\n",
    "    \n",
    "    plt.subplot(1, 3, 3)\n",
    "    # representing B in heatmap format\n",
    "    sns.heatmap(A, annot=True, cmap=cmap, fmt=\".3f\", xticklabels=labels, yticklabels=labels)\n",
    "    plt.xlabel('Predicted Class')\n",
    "    plt.ylabel('Original Class')\n",
    "    plt.title(\"Recall matrix\")\n",
    "    \n",
    "    plt.show()"
   ]
  },
  {
   "cell_type": "code",
   "execution_count": 34,
   "metadata": {},
   "outputs": [
    {
     "name": "stdout",
     "output_type": "stream",
     "text": [
      "confusion matrix of y_train [[48896  1056]\n",
      " [ 2612 47438]]\n"
     ]
    }
   ],
   "source": [
    "print('confusion matrix of y_train',confusion_matrix(y_train,y_train_predict))"
   ]
  },
  {
   "cell_type": "code",
   "execution_count": 35,
   "metadata": {},
   "outputs": [
    {
     "name": "stdout",
     "output_type": "stream",
     "text": [
      "confusion matrix of y_test [[24474   572]\n",
      " [ 2968 21988]]\n"
     ]
    }
   ],
   "source": [
    "print('confusion matrix of y_test',confusion_matrix(y_test,y_test_predict))"
   ]
  },
  {
   "cell_type": "code",
   "execution_count": 37,
   "metadata": {},
   "outputs": [
    {
     "name": "stdout",
     "output_type": "stream",
     "text": [
      "Train confusion_matrix\n"
     ]
    },
    {
     "data": {
      "image/png": "[encoded data removed]",
      "text/plain": [
       "<Figure size 1440x288 with 6 Axes>"
      ]
     },
     "metadata": {},
     "output_type": "display_data"
    },
    {
     "name": "stdout",
     "output_type": "stream",
     "text": [
      "Test confusion_matrix\n"
     ]
    },
    {
     "data": {
      "image/png": "[encoded data removed]",
      "text/plain": [
       "<Figure size 1440x288 with 6 Axes>"
      ]
     },
     "metadata": {},
     "output_type": "display_data"
    }
   ],
   "source": [
    "print('Train confusion_matrix')\n",
    "plot_confusion_matrix(y_train,y_train_predict)\n",
    "print('Test confusion_matrix')\n",
    "plot_confusion_matrix(y_test,y_test_predict)"
   ]
  },
  {
   "cell_type": "code",
   "execution_count": 41,
   "metadata": {},
   "outputs": [
    {
     "name": "stdout",
     "output_type": "stream",
     "text": [
      "auc score is 0.9633359465646462\n"
     ]
    },
    {
     "data": {
      "image/png": "[encoded data removed]",
      "text/plain": [
       "<Figure size 432x288 with 1 Axes>"
      ]
     },
     "metadata": {},
     "output_type": "display_data"
    }
   ],
   "source": [
    "from sklearn.metrics import roc_curve, auc\n",
    "fpr,tpr,thre=roc_curve(y_train,y_train_predict)\n",
    "auc_sc=auc(fpr,tpr)\n",
    "\n",
    "plt.plot(fpr,tpr,color='navy',label='Ruc score (area=%0.2f)'%auc_sc)\n",
    "plt.xlabel('false postive rate')\n",
    "plt.ylabel('true positive rate')\n",
    "plt.title('Receiver operating characteristic with test data')\n",
    "\n",
    "plt.legend()\n",
    "plt.show\n",
    "print('auc score is',auc_sc)"
   ]
  },
  {
   "cell_type": "code",
   "execution_count": 45,
   "metadata": {},
   "outputs": [
    {
     "data": {
      "image/png": "[encoded data removed]",
      "text/plain": [
       "<Figure size 720x864 with 1 Axes>"
      ]
     },
     "metadata": {},
     "output_type": "display_data"
    }
   ],
   "source": [
    "features=df_train_final.columns\n",
    "imp=clf.feature_importances_\n",
    "indices = (np.argsort(imp))[-25:]\n",
    "plt.figure(figsize=(10,12))\n",
    "plt.title('Feature Importances')\n",
    "plt.barh(range(len(indices)), imp[indices], color='r', align='center')\n",
    "plt.yticks(range(len(indices)), [features[i] for i in indices])\n",
    "plt.xlabel('Relative Importance')\n",
    "plt.show()"
   ]
  },
  {
   "cell_type": "markdown",
   "metadata": {},
   "source": [
    "# xgboost using xgbclassifier"
   ]
  },
  {
   "cell_type": "code",
   "execution_count": 50,
   "metadata": {},
   "outputs": [
    {
     "name": "stdout",
     "output_type": "stream",
     "text": [
      "estimators 10 Train Score 0.929299544719913 test Score 0.9270714012982054\n",
      "estimators 20 Train Score 0.9601278531328116 test Score 0.9280727734292363\n",
      "estimators 50 Train Score 0.9716628701594533 test Score 0.9308258312074381\n",
      "estimators 80 Train Score 0.974612086876324 test Score 0.9294526646033832\n",
      "estimators 100 Train Score 0.9765112891478513 test Score 0.9294020461333163\n",
      "estimators 150 Train Score 0.9803921568627452 test Score 0.9291301859193148\n",
      "estimators 250 Train Score 0.9869524135019401 test Score 0.9258841794092001\n",
      "estimators 400 Train Score 0.9943698657583651 test Score 0.9156838736009967\n",
      "estimators 500 Train Score 0.997268825595006 test Score 0.9136891950064572\n"
     ]
    },
    {
     "data": {
      "image/png": "[encoded data removed]",
      "text/plain": [
       "<Figure size 432x288 with 1 Axes>"
      ]
     },
     "metadata": {},
     "output_type": "display_data"
    }
   ],
   "source": [
    "import xgboost \n",
    "from xgboost.sklearn import XGBClassifier\n",
    "est=[10,20,50,80,100,150,250,400,500]\n",
    "train_scores=[]\n",
    "test_scores=[]\n",
    "for i in est:\n",
    "    clf=XGBClassifier(learning_rate =0.1,n_estimators=i, max_depth=5, min_child_weight=1, gamma=0,subsample=0.8,\n",
    "                      colsample_bytree=0.8, objective= 'binary:logistic',nthread=-1, scale_pos_weight=1,seed=27)\n",
    "    clf.fit(df_train_final,y_train)\n",
    "    train_sc = f1_score(y_train,clf.predict(df_train_final))\n",
    "    test_sc = f1_score(y_test,clf.predict(df_test_final))\n",
    "    test_scores.append(test_sc)\n",
    "    train_scores.append(train_sc)\n",
    "    print('estimators',i,'Train Score',train_sc,'test Score',test_sc)\n",
    "plt.plot(est,train_scores,label='Train Score')\n",
    "plt.plot(est,test_scores,label='Test Score')\n",
    "plt.xlabel('Estimator')\n",
    "plt.ylabel('Score')\n",
    "plt.title('Estimators vs score at depth =5')\n",
    "plt.show()"
   ]
  },
  {
   "cell_type": "code",
   "execution_count": 51,
   "metadata": {},
   "outputs": [
    {
     "name": "stdout",
     "output_type": "stream",
     "text": [
      "estimators 2 Train Score 0.9444120087269151 test Score 0.9185567876344086\n",
      "estimators 4 Train Score 0.9677928224004206 test Score 0.9258752447316898\n",
      "estimators 5 Train Score 0.9716628701594533 test Score 0.9308258312074381\n",
      "estimators 8 Train Score 0.9775746668553981 test Score 0.9323216097396009\n",
      "estimators 10 Train Score 0.9824048104279746 test Score 0.9302906496750566\n",
      "estimators 15 Train Score 0.9953872688620593 test Score 0.9298587020898553\n"
     ]
    },
    {
     "data": {
      "image/png": "[encoded data removed]",
      "text/plain": [
       "<Figure size 432x288 with 1 Axes>"
      ]
     },
     "metadata": {},
     "output_type": "display_data"
    }
   ],
   "source": [
    "import xgboost \n",
    "from xgboost.sklearn import XGBClassifier\n",
    "est=[2,4,5,8,10,15]\n",
    "train_scores=[]\n",
    "test_scores=[]\n",
    "for i in est:\n",
    "    clf=XGBClassifier(learning_rate =0.1,n_estimators=50, max_depth=i, min_child_weight=1, gamma=0,subsample=0.8,\n",
    "                      colsample_bytree=0.8, objective= 'binary:logistic',nthread=-1, scale_pos_weight=1,seed=27)\n",
    "    clf.fit(df_train_final,y_train)\n",
    "    train_sc = f1_score(y_train,clf.predict(df_train_final))\n",
    "    test_sc = f1_score(y_test,clf.predict(df_test_final))\n",
    "    test_scores.append(test_sc)\n",
    "    train_scores.append(train_sc)\n",
    "    print('estimators',i,'Train Score',train_sc,'test Score',test_sc)\n",
    "plt.plot(est,train_scores,label='Train Score')\n",
    "plt.plot(est,test_scores,label='Test Score')\n",
    "plt.xlabel('Estimator')\n",
    "plt.ylabel('Score')\n",
    "plt.title('Estimators vs score at depth =5')\n",
    "plt.show()"
   ]
  },
  {
   "cell_type": "code",
   "execution_count": 10,
   "metadata": {},
   "outputs": [
    {
     "name": "stdout",
     "output_type": "stream",
     "text": [
      "mean test scores [0.97325538 0.96758611 0.97656612 0.97571552 0.9733577 ]\n",
      "mean train scores [0.97383067 0.96744993 0.98006596 0.97781572 0.97394312]\n"
     ]
    }
   ],
   "source": [
    "import xgboost \n",
    "from xgboost.sklearn import XGBClassifier\n",
    "\n",
    "from sklearn.model_selection import GridSearchCV \n",
    "param_dist={'max_depth':sp_randint(3,10),\n",
    "            'n_estimators':sp_randint(45,65),\n",
    "            }\n",
    "clf=XGBClassifier(min_child_weight=1, gamma=0,subsample=0.8,colsample_bytree=0.8, \n",
    "                  learning_rate =0.1,objective= 'binary:logistic',nthread=-1, scale_pos_weight=1,seed=27)\n",
    "    \n",
    "cv_search=cv_search=RandomizedSearchCV(clf, param_distributions=param_dist, n_iter=5, scoring='f1', n_jobs=-1, \n",
    "                             cv=10,random_state=23,return_train_score=True)\n",
    "cv_search.fit(df_train_final,y_train)\n",
    "print('mean test scores',cv_search.cv_results_['mean_test_score'])\n",
    "print('mean train scores',cv_search.cv_results_['mean_train_score'])"
   ]
  },
  {
   "cell_type": "code",
   "execution_count": 11,
   "metadata": {},
   "outputs": [
    {
     "data": {
      "text/plain": [
       "XGBClassifier(base_score=0.5, booster='gbtree', colsample_bylevel=1,\n",
       "              colsample_bynode=1, colsample_bytree=0.8, gamma=0,\n",
       "              learning_rate=0.1, max_delta_step=0, max_depth=9,\n",
       "              min_child_weight=1, missing=None, n_estimators=53, n_jobs=1,\n",
       "              nthread=-1, objective='binary:logistic', random_state=0,\n",
       "              reg_alpha=0, reg_lambda=1, scale_pos_weight=1, seed=27,\n",
       "              silent=None, subsample=0.8, verbosity=1)"
      ]
     },
     "execution_count": 11,
     "metadata": {},
     "output_type": "execute_result"
    }
   ],
   "source": [
    "cv_search.best_estimator_"
   ]
  },
  {
   "cell_type": "code",
   "execution_count": 12,
   "metadata": {},
   "outputs": [
    {
     "name": "stdout",
     "output_type": "stream",
     "text": [
      "mean test scores [0.97330056 0.97255065 0.97656612 0.97912255 0.98061909]\n",
      "mean train scores [0.97588344 0.97485085 0.98006596 0.98973018 0.99732628]\n"
     ]
    }
   ],
   "source": [
    "from sklearn.model_selection import GridSearchCV \n",
    "param_dist={\n",
    "            'learning_rate':[0.02,0.01,0.1,0.2,0.3]\n",
    "            }\n",
    "clf=XGBClassifier(base_score=0.5, booster='gbtree', colsample_bylevel=1,\n",
    "              colsample_bynode=1, colsample_bytree=0.8, gamma=0,\n",
    "              max_delta_step=0, max_depth=9,\n",
    "              min_child_weight=1, missing=None, n_estimators=53, n_jobs=1,\n",
    "              nthread=-1, objective='binary:logistic', random_state=0,\n",
    "              reg_alpha=0, reg_lambda=1, scale_pos_weight=1, seed=27,\n",
    "              silent=None, subsample=0.8, verbosity=1)\n",
    "    \n",
    "cv_search=cv_search=RandomizedSearchCV(clf, param_distributions=param_dist, n_iter=5, scoring='f1', n_jobs=-1, \n",
    "                             cv=10,random_state=23,return_train_score=True)\n",
    "cv_search.fit(df_train_final,y_train)\n",
    "print('mean test scores',cv_search.cv_results_['mean_test_score'])\n",
    "print('mean train scores',cv_search.cv_results_['mean_train_score'])"
   ]
  },
  {
   "cell_type": "code",
   "execution_count": 13,
   "metadata": {},
   "outputs": [
    {
     "data": {
      "text/plain": [
       "XGBClassifier(base_score=0.5, booster='gbtree', colsample_bylevel=1,\n",
       "              colsample_bynode=1, colsample_bytree=0.8, gamma=0,\n",
       "              learning_rate=0.3, max_delta_step=0, max_depth=9,\n",
       "              min_child_weight=1, missing=None, n_estimators=53, n_jobs=1,\n",
       "              nthread=-1, objective='binary:logistic', random_state=0,\n",
       "              reg_alpha=0, reg_lambda=1, scale_pos_weight=1, seed=27,\n",
       "              silent=None, subsample=0.8, verbosity=1)"
      ]
     },
     "execution_count": 13,
     "metadata": {},
     "output_type": "execute_result"
    }
   ],
   "source": [
    "cv_search.best_estimator_"
   ]
  },
  {
   "cell_type": "code",
   "execution_count": 14,
   "metadata": {},
   "outputs": [
    {
     "name": "stdout",
     "output_type": "stream",
     "text": [
      "mean test scores [0.97994321 0.97776425 0.98033615 0.97436467 0.9801743 ]\n",
      "mean train scores [0.99769433 0.98339259 0.99747425 0.97547856 0.99785023]\n"
     ]
    }
   ],
   "source": [
    "from sklearn.model_selection import GridSearchCV \n",
    "param_dist={\n",
    "            'reg_alpha':[1e-5, 1e-2,0, 0.1, 1, 100],\n",
    "    'reg_lambda':[1e-5, 1e-2,0, 0.1, 1, 100]\n",
    "            }\n",
    "clf=XGBClassifier(base_score=0.5, booster='gbtree', colsample_bylevel=1,\n",
    "              colsample_bynode=1, colsample_bytree=0.8, gamma=0,\n",
    "              learning_rate=0.3, max_delta_step=0, max_depth=9,\n",
    "              min_child_weight=1, missing=None, n_estimators=53, n_jobs=1,\n",
    "              nthread=-1, objective='binary:logistic', random_state=0,\n",
    "              scale_pos_weight=1, seed=27,silent=None, subsample=0.8, verbosity=1)\n",
    "    \n",
    "cv_search=cv_search=RandomizedSearchCV(clf, param_distributions=param_dist, n_iter=5, scoring='f1', n_jobs=-1, \n",
    "                             cv=10,random_state=23,return_train_score=True)\n",
    "cv_search.fit(df_train_final,y_train)\n",
    "print('mean test scores',cv_search.cv_results_['mean_test_score'])\n",
    "print('mean train scores',cv_search.cv_results_['mean_train_score'])"
   ]
  },
  {
   "cell_type": "code",
   "execution_count": 15,
   "metadata": {},
   "outputs": [
    {
     "data": {
      "text/plain": [
       "XGBClassifier(base_score=0.5, booster='gbtree', colsample_bylevel=1,\n",
       "              colsample_bynode=1, colsample_bytree=0.8, gamma=0,\n",
       "              learning_rate=0.3, max_delta_step=0, max_depth=9,\n",
       "              min_child_weight=1, missing=None, n_estimators=53, n_jobs=1,\n",
       "              nthread=-1, objective='binary:logistic', random_state=0,\n",
       "              reg_alpha=0.1, reg_lambda=1, scale_pos_weight=1, seed=27,\n",
       "              silent=None, subsample=0.8, verbosity=1)"
      ]
     },
     "execution_count": 15,
     "metadata": {},
     "output_type": "execute_result"
    }
   ],
   "source": [
    "cv_search.best_estimator_"
   ]
  },
  {
   "cell_type": "code",
   "execution_count": 17,
   "metadata": {},
   "outputs": [
    {
     "name": "stdout",
     "output_type": "stream",
     "text": [
      "mean test scores [0.97909887 0.9804474  0.98026422 0.9798136  0.97950494]\n",
      "mean train scores [0.99640018 0.99730133 0.99659207 0.99685842 0.99666833]\n"
     ]
    }
   ],
   "source": [
    "from sklearn.model_selection import GridSearchCV \n",
    "param_dist={\n",
    "            'subsample':[i/10.0 for i in range(6,10)],\n",
    "             'colsample_bytree':[i/10.0 for i in range(6,10)]\n",
    "             }\n",
    "clf=XGBClassifier(base_score=0.5, booster='gbtree', colsample_bylevel=1,\n",
    "              colsample_bynode=1, gamma=0,\n",
    "              learning_rate=0.3, max_delta_step=0, max_depth=9,\n",
    "              min_child_weight=1, missing=None, n_estimators=53, n_jobs=1,\n",
    "              nthread=-1, objective='binary:logistic', random_state=0,\n",
    "              reg_alpha=0.1, reg_lambda=1, scale_pos_weight=1, seed=27,\n",
    "              silent=None, subsample=0.8, verbosity=1)\n",
    "    \n",
    "cv_search=cv_search=RandomizedSearchCV(clf, param_distributions=param_dist, n_iter=5, scoring='f1', n_jobs=-1, \n",
    "                             cv=10,random_state=23,return_train_score=True)\n",
    "cv_search.fit(df_train_final,y_train)\n",
    "print('mean test scores',cv_search.cv_results_['mean_test_score'])\n",
    "print('mean train scores',cv_search.cv_results_['mean_train_score'])"
   ]
  },
  {
   "cell_type": "code",
   "execution_count": 18,
   "metadata": {},
   "outputs": [
    {
     "data": {
      "text/plain": [
       "XGBClassifier(base_score=0.5, booster='gbtree', colsample_bylevel=1,\n",
       "              colsample_bynode=1, colsample_bytree=0.9, gamma=0,\n",
       "              learning_rate=0.3, max_delta_step=0, max_depth=9,\n",
       "              min_child_weight=1, missing=None, n_estimators=53, n_jobs=1,\n",
       "              nthread=-1, objective='binary:logistic', random_state=0,\n",
       "              reg_alpha=0.1, reg_lambda=1, scale_pos_weight=1, seed=27,\n",
       "              silent=None, subsample=0.6, verbosity=1)"
      ]
     },
     "execution_count": 18,
     "metadata": {},
     "output_type": "execute_result"
    }
   ],
   "source": [
    "cv_search.best_estimator_"
   ]
  },
  {
   "cell_type": "code",
   "execution_count": 19,
   "metadata": {},
   "outputs": [],
   "source": [
    "clf=XGBClassifier(base_score=0.5, booster='gbtree', colsample_bylevel=1,\n",
    "              colsample_bynode=1, colsample_bytree=0.9, gamma=0,\n",
    "              learning_rate=0.3, max_delta_step=0, max_depth=9,\n",
    "              min_child_weight=1, missing=None, n_estimators=53, n_jobs=1,\n",
    "              nthread=-1, objective='binary:logistic', random_state=0,\n",
    "              reg_alpha=0.1, reg_lambda=1, scale_pos_weight=1, seed=27,\n",
    "              silent=None, subsample=0.6, verbosity=1)\n",
    "    \n",
    "\n",
    "clf.fit(df_train_final,y_train)\n",
    "y_train_predict=clf.predict(df_train_final)\n",
    "y_test_predict=clf.predict(df_test_final)"
   ]
  },
  {
   "cell_type": "code",
   "execution_count": 20,
   "metadata": {},
   "outputs": [
    {
     "name": "stdout",
     "output_type": "stream",
     "text": [
      "f1 score of train data is 0.9971591477443235\n",
      "f1 score of train data is 0.9259518804017753\n"
     ]
    }
   ],
   "source": [
    "print('f1 score of train data is',f1_score(y_train,y_train_predict))\n",
    "print('f1 score of train data is',f1_score(y_test,y_test_predict))"
   ]
  },
  {
   "cell_type": "code",
   "execution_count": 22,
   "metadata": {},
   "outputs": [
    {
     "name": "stdout",
     "output_type": "stream",
     "text": [
      "Train confusion_matrix\n"
     ]
    },
    {
     "data": {
      "image/png": "[encoded data removed]",
      "text/plain": [
       "<Figure size 1440x288 with 6 Axes>"
      ]
     },
     "metadata": {},
     "output_type": "display_data"
    },
    {
     "name": "stdout",
     "output_type": "stream",
     "text": [
      "Test confusion_matrix\n"
     ]
    },
    {
     "data": {
      "image/png": "[encoded data removed]",
      "text/plain": [
       "<Figure size 1440x288 with 6 Axes>"
      ]
     },
     "metadata": {},
     "output_type": "display_data"
    }
   ],
   "source": [
    "print('Train confusion_matrix')\n",
    "plot_confusion_matrix(y_train,y_train_predict)\n",
    "print('Test confusion_matrix')\n",
    "plot_confusion_matrix(y_test,y_test_predict)"
   ]
  },
  {
   "cell_type": "code",
   "execution_count": 23,
   "metadata": {},
   "outputs": [
    {
     "data": {
      "image/png": "[encoded data removed]",
      "text/plain": [
       "<Figure size 720x864 with 1 Axes>"
      ]
     },
     "metadata": {},
     "output_type": "display_data"
    }
   ],
   "source": [
    "features=df_train_final.columns\n",
    "imp=clf.feature_importances_\n",
    "indices = (np.argsort(imp))[-25:]\n",
    "plt.figure(figsize=(10,12))\n",
    "plt.title('Feature Importances')\n",
    "plt.barh(range(len(indices)), imp[indices], color='r', align='center')\n",
    "plt.yticks(range(len(indices)), [features[i] for i in indices])\n",
    "plt.xlabel('Relative Importance')\n",
    "plt.show()"
   ]
  },
  {
   "cell_type": "code",
   "execution_count": null,
   "metadata": {},
   "outputs": [],
   "source": []
  }
 ],
 "metadata": {
  "kernelspec": {
   "display_name": "Python 3",
   "language": "python",
   "name": "python3"
  },
  "language_info": {
   "codemirror_mode": {
    "name": "ipython",
    "version": 3
   },
   "file_extension": ".py",
   "mimetype": "text/x-python",
   "name": "python",
   "nbconvert_exporter": "python",
   "pygments_lexer": "ipython3",
   "version": "3.6.5"
  }
 },
 "nbformat": 4,
 "nbformat_minor": 2
}
